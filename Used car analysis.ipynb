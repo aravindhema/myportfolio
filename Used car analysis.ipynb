{
 "cells": [
  {
   "cell_type": "code",
   "execution_count": 2,
   "id": "5c58c6b8-a269-4661-8808-e7ef5078e1e5",
   "metadata": {},
   "outputs": [
    {
     "name": "stdout",
     "output_type": "stream",
     "text": [
      "Requirement already satisfied: flask in ./opt/anaconda3/lib/python3.8/site-packages (1.1.2)\n",
      "Requirement already satisfied: Werkzeug>=0.15 in ./opt/anaconda3/lib/python3.8/site-packages (from flask) (1.0.1)\n",
      "Requirement already satisfied: Jinja2>=2.10.1 in ./opt/anaconda3/lib/python3.8/site-packages (from flask) (2.11.3)\n",
      "Requirement already satisfied: click>=5.1 in ./opt/anaconda3/lib/python3.8/site-packages (from flask) (7.1.2)\n",
      "Requirement already satisfied: itsdangerous>=0.24 in ./opt/anaconda3/lib/python3.8/site-packages (from flask) (1.1.0)\n",
      "Requirement already satisfied: MarkupSafe>=0.23 in ./opt/anaconda3/lib/python3.8/site-packages (from Jinja2>=2.10.1->flask) (1.1.1)\n"
     ]
    }
   ],
   "source": [
    "#!pip install flask"
   ]
  },
  {
   "cell_type": "code",
   "execution_count": 50,
   "id": "b15d3037-7dcd-4c2a-a6d8-48459a84cc59",
   "metadata": {},
   "outputs": [],
   "source": [
    "from bs4 import BeautifulSoup\n",
    "import pandas as pd\n",
    "import numpy as np\n",
    "import requests\n",
    "import datetime\n",
    "from selenium import webdriver\n",
    "from selenium.webdriver.common.keys import Keys\n",
    "import os"
   ]
  },
  {
   "cell_type": "code",
   "execution_count": 82,
   "id": "2f846bd9-98bf-4f8b-b585-deea5ff4ec9f",
   "metadata": {},
   "outputs": [],
   "source": [
    "#Extract the list of used cars for sale from cars24.com website using Selenium and \n",
    "#Beautiful Soup\n",
    "\n",
    "url = 'https://www.cars24.com/buy-used-car?year-range=2013-2021&sort=P&storeCityId=5732&pinId=600001'"
   ]
  },
  {
   "cell_type": "code",
   "execution_count": 146,
   "id": "160a9f55-dd11-44c9-8be4-7fa6f76f391f",
   "metadata": {},
   "outputs": [
    {
     "name": "stdout",
     "output_type": "stream",
     "text": [
      "<Response [200]>\n"
     ]
    }
   ],
   "source": [
    "#r = requests.get(url)\n",
    "#print(r)\n"
   ]
  },
  {
   "cell_type": "code",
   "execution_count": 97,
   "id": "e17fbcb5",
   "metadata": {},
   "outputs": [],
   "source": [
    "year = []\n",
    "transmission = []"
   ]
  },
  {
   "cell_type": "code",
   "execution_count": 174,
   "id": "b06e9c81",
   "metadata": {},
   "outputs": [],
   "source": [
    "browser = webdriver.Safari()\n",
    "\n",
    "# makes the browser wait if it can't find an element\n",
    "browser.implicitly_wait(10)\n",
    "\n",
    "browser.get(url)\n",
    "browser.implicitly_wait(15)\n"
   ]
  },
  {
   "cell_type": "code",
   "execution_count": 172,
   "id": "89fe635b",
   "metadata": {},
   "outputs": [],
   "source": [
    "#browser.execute_script(\"window.scrollTo(0, document.body.scrollHeight);\")\n",
    "#browser.implicitly_wait(45)"
   ]
  },
  {
   "cell_type": "code",
   "execution_count": null,
   "id": "75f99536",
   "metadata": {},
   "outputs": [],
   "source": []
  },
  {
   "cell_type": "code",
   "execution_count": 176,
   "id": "27d4c07c",
   "metadata": {},
   "outputs": [],
   "source": [
    "#This piece of code will scroll to the end of the page first, this being a dynamic web page content\n",
    "import time\n",
    "SCROLL_PAUSE_TIME = 0.5\n",
    "\n",
    "# Get scroll height\n",
    "last_height = browser.execute_script(\"return document.body.scrollHeight\")\n",
    "\n",
    "while True:\n",
    "    # Scroll down to bottom\n",
    "    browser.execute_script(\"window.scrollTo(0, document.body.scrollHeight);\")\n",
    "\n",
    "    # Wait to load page\n",
    "    time.sleep(SCROLL_PAUSE_TIME)\n",
    "\n",
    "    # Calculate new scroll height and compare with last scroll height\n",
    "    new_height = browser.execute_script(\"return document.body.scrollHeight\")\n",
    "    if new_height == last_height:\n",
    "        break\n",
    "    last_height = new_height"
   ]
  },
  {
   "cell_type": "code",
   "execution_count": 177,
   "id": "3100823d",
   "metadata": {},
   "outputs": [
    {
     "name": "stdout",
     "output_type": "stream",
     "text": [
      "576\n"
     ]
    }
   ],
   "source": [
    "#Use beautiful soup to break down the details of the car using html attributes\n",
    "soup = BeautifulSoup(browser.page_source)\n",
    "cars1 = soup.find_all('div',attrs={'class':'_1l4fi'})\n",
    "car_model = soup.find_all('div',attrs={'class':'_1jpRU'})\n",
    "details = soup.find('ul',attrs={'class':'bVR0c'}).find_all('li')\n",
    "details\n",
    "print(len(car_model))"
   ]
  },
  {
   "cell_type": "code",
   "execution_count": 270,
   "id": "53b5aa86",
   "metadata": {},
   "outputs": [
    {
     "name": "stdout",
     "output_type": "stream",
     "text": [
      "<div class=\"_1jpRU\"><h2 class=\"_3FpCg\">2020 Maruti Alto</h2><p class=\"cvakB\">LXI <span>Manual</span></p></div>\n"
     ]
    }
   ],
   "source": [
    "#cars1 = soup.find_all('div',attrs={'class':'_1l4fi'})\n",
    "len(cars1)\n",
    "print(car_model[0])"
   ]
  },
  {
   "cell_type": "code",
   "execution_count": 306,
   "id": "194c014e",
   "metadata": {},
   "outputs": [],
   "source": [
    "year = []\n",
    "transmission = []\n",
    "model = []\n",
    "km = []\n",
    "engine = []\n",
    "owner = [] \n",
    "make = []\n",
    "carprice = []"
   ]
  },
  {
   "cell_type": "code",
   "execution_count": 307,
   "id": "9a20958e",
   "metadata": {},
   "outputs": [],
   "source": [
    "#print(car_model)\n",
    "#scroll through all the extracted car list to get the details\n",
    "j = 0\n",
    "for x in car_model:\n",
    "    text1 = car_model[j].find('h2',attrs={'class':'_3FpCg'})\n",
    "    text2 = car_model[j].find('p',attrs={'class':'cvakB'})\n",
    "    trans = text2.find('span')\n",
    "    #print(text2.text)\n",
    "    #print(trans.text)\n",
    "    desc = text1.text.split(' ')\n",
    "    #print(desc)\n",
    "    year.append(desc[0])\n",
    "    text3 = ''\n",
    "    text3 = text3.join(desc[1:])\n",
    "    model.append(text3)\n",
    "    make.append(text2.text)\n",
    "    #print(model)\n",
    "    transmission.append(trans.text)\n",
    "    #desc.pop(0)\n",
    "    #desc.pop(0)\n",
    "    #desc.pop(-1)\n",
    "    details = cars1[j].find('ul',attrs={'class':'bVR0c'}).find_all('li')\n",
    "    price = cars1[j].find('div',attrs={'class':'_7udZZ'}).text\n",
    "    carprice.append(price)\n",
    "    km.append(details[0].text)\n",
    "    owner.append(details[1].text)\n",
    "    engine.append(details[2].text)\n",
    "\n",
    "    #print(model)\n",
    "    #print(km,engine,owner,year,transmission)\n",
    "    j = j + 1\n",
    "    #break"
   ]
  },
  {
   "cell_type": "code",
   "execution_count": 308,
   "id": "4e1617f4",
   "metadata": {},
   "outputs": [
    {
     "data": {
      "text/plain": [
       "576"
      ]
     },
     "execution_count": 308,
     "metadata": {},
     "output_type": "execute_result"
    }
   ],
   "source": [
    "\n",
    "len(carprice)"
   ]
  },
  {
   "cell_type": "code",
   "execution_count": 309,
   "id": "3845af91",
   "metadata": {},
   "outputs": [
    {
     "data": {
      "text/plain": [
       "576"
      ]
     },
     "execution_count": 309,
     "metadata": {},
     "output_type": "execute_result"
    }
   ],
   "source": [
    "len(model)"
   ]
  },
  {
   "cell_type": "code",
   "execution_count": 310,
   "id": "cb2af3d6",
   "metadata": {},
   "outputs": [
    {
     "data": {
      "text/html": [
       "<div>\n",
       "<style scoped>\n",
       "    .dataframe tbody tr th:only-of-type {\n",
       "        vertical-align: middle;\n",
       "    }\n",
       "\n",
       "    .dataframe tbody tr th {\n",
       "        vertical-align: top;\n",
       "    }\n",
       "\n",
       "    .dataframe thead th {\n",
       "        text-align: right;\n",
       "    }\n",
       "</style>\n",
       "<table border=\"1\" class=\"dataframe\">\n",
       "  <thead>\n",
       "    <tr style=\"text-align: right;\">\n",
       "      <th></th>\n",
       "      <th>Model</th>\n",
       "      <th>Make</th>\n",
       "      <th>Transmission</th>\n",
       "      <th>Engine</th>\n",
       "      <th>Year</th>\n",
       "      <th>KM</th>\n",
       "      <th>Price</th>\n",
       "      <th>Owner</th>\n",
       "    </tr>\n",
       "  </thead>\n",
       "  <tbody>\n",
       "    <tr>\n",
       "      <th>0</th>\n",
       "      <td>MarutiAlto</td>\n",
       "      <td>LXI Manual</td>\n",
       "      <td>Manual</td>\n",
       "      <td>Petrol</td>\n",
       "      <td>2020</td>\n",
       "      <td>3,494 km</td>\n",
       "      <td>₹4,19,599</td>\n",
       "      <td>1st Owner</td>\n",
       "    </tr>\n",
       "    <tr>\n",
       "      <th>1</th>\n",
       "      <td>MarutiEeco</td>\n",
       "      <td>5 STR WITH AC PLUSHTR Manual</td>\n",
       "      <td>Manual</td>\n",
       "      <td>Petrol</td>\n",
       "      <td>2014</td>\n",
       "      <td>18,371 km</td>\n",
       "      <td>₹3,54,499</td>\n",
       "      <td>1st Owner</td>\n",
       "    </tr>\n",
       "    <tr>\n",
       "      <th>2</th>\n",
       "      <td>MarutiSwift</td>\n",
       "      <td>LXI Manual</td>\n",
       "      <td>Manual</td>\n",
       "      <td>Petrol</td>\n",
       "      <td>2019</td>\n",
       "      <td>2,484 km</td>\n",
       "      <td>₹5,86,699</td>\n",
       "      <td>1st Owner</td>\n",
       "    </tr>\n",
       "    <tr>\n",
       "      <th>3</th>\n",
       "      <td>RenaultKwid</td>\n",
       "      <td>1.0 RXT Opt AT Automatic</td>\n",
       "      <td>Automatic</td>\n",
       "      <td>Petrol</td>\n",
       "      <td>2020</td>\n",
       "      <td>4,824 km</td>\n",
       "      <td>₹4,83,299</td>\n",
       "      <td>1st Owner</td>\n",
       "    </tr>\n",
       "    <tr>\n",
       "      <th>4</th>\n",
       "      <td>MarutiSwiftDzire</td>\n",
       "      <td>VXI 1.2 BS IV Manual</td>\n",
       "      <td>Manual</td>\n",
       "      <td>Petrol</td>\n",
       "      <td>2014</td>\n",
       "      <td>10,131 km</td>\n",
       "      <td>₹4,92,099</td>\n",
       "      <td>1st Owner</td>\n",
       "    </tr>\n",
       "    <tr>\n",
       "      <th>...</th>\n",
       "      <td>...</td>\n",
       "      <td>...</td>\n",
       "      <td>...</td>\n",
       "      <td>...</td>\n",
       "      <td>...</td>\n",
       "      <td>...</td>\n",
       "      <td>...</td>\n",
       "      <td>...</td>\n",
       "    </tr>\n",
       "    <tr>\n",
       "      <th>571</th>\n",
       "      <td>HyundaiGrandi10</td>\n",
       "      <td>MAGNA 1.2 KAPPA VTVT Manual</td>\n",
       "      <td>Manual</td>\n",
       "      <td>Petrol</td>\n",
       "      <td>2017</td>\n",
       "      <td>14,965 km</td>\n",
       "      <td>₹4,91,899</td>\n",
       "      <td>1st Owner</td>\n",
       "    </tr>\n",
       "    <tr>\n",
       "      <th>572</th>\n",
       "      <td>HyundaiCreta</td>\n",
       "      <td>1.6 SX (O) VTVT Manual</td>\n",
       "      <td>Manual</td>\n",
       "      <td>Petrol</td>\n",
       "      <td>2018</td>\n",
       "      <td>18,813 km</td>\n",
       "      <td>₹9,25,099</td>\n",
       "      <td>1st Owner</td>\n",
       "    </tr>\n",
       "    <tr>\n",
       "      <th>573</th>\n",
       "      <td>VolkswagenAmeo</td>\n",
       "      <td>COMFORTLINE 1.2 Manual</td>\n",
       "      <td>Manual</td>\n",
       "      <td>Petrol</td>\n",
       "      <td>2017</td>\n",
       "      <td>48,014 km</td>\n",
       "      <td>₹4,61,199</td>\n",
       "      <td>1st Owner</td>\n",
       "    </tr>\n",
       "    <tr>\n",
       "      <th>574</th>\n",
       "      <td>MarutiVitaraBrezza</td>\n",
       "      <td>ZDI Manual</td>\n",
       "      <td>Manual</td>\n",
       "      <td>Diesel</td>\n",
       "      <td>2016</td>\n",
       "      <td>62,482 km</td>\n",
       "      <td>₹6,77,999</td>\n",
       "      <td>1st Owner</td>\n",
       "    </tr>\n",
       "    <tr>\n",
       "      <th>575</th>\n",
       "      <td>HyundaiVerna</td>\n",
       "      <td>FLUIDIC 1.6 SX VTVT OPT AT Automatic</td>\n",
       "      <td>Automatic</td>\n",
       "      <td>Petrol</td>\n",
       "      <td>2013</td>\n",
       "      <td>67,799 km</td>\n",
       "      <td>₹4,35,499</td>\n",
       "      <td>2nd Owner</td>\n",
       "    </tr>\n",
       "  </tbody>\n",
       "</table>\n",
       "<p>576 rows × 8 columns</p>\n",
       "</div>"
      ],
      "text/plain": [
       "                  Model                                  Make Transmission  \\\n",
       "0            MarutiAlto                            LXI Manual       Manual   \n",
       "1            MarutiEeco          5 STR WITH AC PLUSHTR Manual       Manual   \n",
       "2           MarutiSwift                            LXI Manual       Manual   \n",
       "3           RenaultKwid              1.0 RXT Opt AT Automatic    Automatic   \n",
       "4      MarutiSwiftDzire                  VXI 1.2 BS IV Manual       Manual   \n",
       "..                  ...                                   ...          ...   \n",
       "571     HyundaiGrandi10           MAGNA 1.2 KAPPA VTVT Manual       Manual   \n",
       "572        HyundaiCreta                1.6 SX (O) VTVT Manual       Manual   \n",
       "573      VolkswagenAmeo                COMFORTLINE 1.2 Manual       Manual   \n",
       "574  MarutiVitaraBrezza                            ZDI Manual       Manual   \n",
       "575        HyundaiVerna  FLUIDIC 1.6 SX VTVT OPT AT Automatic    Automatic   \n",
       "\n",
       "     Engine  Year         KM      Price      Owner  \n",
       "0    Petrol  2020   3,494 km  ₹4,19,599  1st Owner  \n",
       "1    Petrol  2014  18,371 km  ₹3,54,499  1st Owner  \n",
       "2    Petrol  2019   2,484 km  ₹5,86,699  1st Owner  \n",
       "3    Petrol  2020   4,824 km  ₹4,83,299  1st Owner  \n",
       "4    Petrol  2014  10,131 km  ₹4,92,099  1st Owner  \n",
       "..      ...   ...        ...        ...        ...  \n",
       "571  Petrol  2017  14,965 km  ₹4,91,899  1st Owner  \n",
       "572  Petrol  2018  18,813 km  ₹9,25,099  1st Owner  \n",
       "573  Petrol  2017  48,014 km  ₹4,61,199  1st Owner  \n",
       "574  Diesel  2016  62,482 km  ₹6,77,999  1st Owner  \n",
       "575  Petrol  2013  67,799 km  ₹4,35,499  2nd Owner  \n",
       "\n",
       "[576 rows x 8 columns]"
      ]
     },
     "execution_count": 310,
     "metadata": {},
     "output_type": "execute_result"
    }
   ],
   "source": [
    "#Finally convert this extracted info into a pandas dataframe\n",
    "dict1 = {'Model':model,'Make':make,'Transmission':transmission,'Engine':engine,'Year':year,'KM':km,'Price':carprice,'Owner':owner}\n",
    "df = pd.DataFrame(dict1)\n",
    "df"
   ]
  },
  {
   "cell_type": "code",
   "execution_count": 311,
   "id": "17c91ae8",
   "metadata": {},
   "outputs": [],
   "source": [
    "#Copy to a CSV for later use\n",
    "df.to_csv('cars24_used.csv')"
   ]
  },
  {
   "cell_type": "code",
   "execution_count": 149,
   "id": "ac7f9e40",
   "metadata": {},
   "outputs": [
    {
     "name": "stdout",
     "output_type": "stream",
     "text": [
      "Collecting selenium\n",
      "  Downloading selenium-3.141.0-py2.py3-none-any.whl (904 kB)\n",
      "\u001b[K     |████████████████████████████████| 904 kB 9.4 MB/s eta 0:00:01\n",
      "\u001b[?25hRequirement already satisfied: urllib3 in ./opt/anaconda3/lib/python3.8/site-packages (from selenium) (1.26.4)\n",
      "Installing collected packages: selenium\n",
      "Successfully installed selenium-3.141.0\n"
     ]
    }
   ],
   "source": [
    "#!pip install selenium"
   ]
  },
  {
   "cell_type": "code",
   "execution_count": 312,
   "id": "6e00858b",
   "metadata": {},
   "outputs": [
    {
     "name": "stdout",
     "output_type": "stream",
     "text": [
      "<class 'pandas.core.frame.DataFrame'>\n",
      "RangeIndex: 576 entries, 0 to 575\n",
      "Data columns (total 8 columns):\n",
      " #   Column        Non-Null Count  Dtype \n",
      "---  ------        --------------  ----- \n",
      " 0   Model         576 non-null    object\n",
      " 1   Make          576 non-null    object\n",
      " 2   Transmission  576 non-null    object\n",
      " 3   Engine        576 non-null    object\n",
      " 4   Year          576 non-null    object\n",
      " 5   KM            576 non-null    object\n",
      " 6   Price         576 non-null    object\n",
      " 7   Owner         576 non-null    object\n",
      "dtypes: object(8)\n",
      "memory usage: 36.1+ KB\n"
     ]
    }
   ],
   "source": [
    "df.info()\n",
    "#No null values present in the dataframe"
   ]
  },
  {
   "cell_type": "code",
   "execution_count": null,
   "id": "9a6c2ff5",
   "metadata": {},
   "outputs": [],
   "source": [
    "\n"
   ]
  },
  {
   "cell_type": "code",
   "execution_count": 313,
   "id": "836d88b4",
   "metadata": {},
   "outputs": [],
   "source": [
    "#Convert price from string to numeric, remove commas and currency \n",
    "#Lets see the range of prices for a second hand car\n",
    "import matplotlib.pyplot as plt\n",
    "df['Price'] = df['Price'].str.replace('₹', '')\n",
    "df['Price'] = df['Price'].str.replace(',', '')\n",
    "df['Price'] = pd.to_numeric(df['Price'])\n"
   ]
  },
  {
   "cell_type": "code",
   "execution_count": 314,
   "id": "48f91864",
   "metadata": {},
   "outputs": [],
   "source": [
    "pd.set_option('display.float_format', lambda x: '%.5f' % x)"
   ]
  },
  {
   "cell_type": "code",
   "execution_count": 429,
   "id": "06c7510d",
   "metadata": {},
   "outputs": [
    {
     "data": {
      "image/png": "[encoded data removed]",
      "text/plain": [
       "<Figure size 720x504 with 1 Axes>"
      ]
     },
     "metadata": {
      "needs_background": "light"
     },
     "output_type": "display_data"
    }
   ],
   "source": [
    "#maximum distribution of price range represented using box plot, lies below 600000\n",
    "fig = plt.figure(figsize =(10, 7))\n",
    "plt.boxplot(df['Price'])\n",
    "plt.show()"
   ]
  },
  {
   "cell_type": "code",
   "execution_count": 428,
   "id": "f36e167d",
   "metadata": {},
   "outputs": [
    {
     "data": {
      "text/html": [
       "<div>\n",
       "<style scoped>\n",
       "    .dataframe tbody tr th:only-of-type {\n",
       "        vertical-align: middle;\n",
       "    }\n",
       "\n",
       "    .dataframe tbody tr th {\n",
       "        vertical-align: top;\n",
       "    }\n",
       "\n",
       "    .dataframe thead th {\n",
       "        text-align: right;\n",
       "    }\n",
       "</style>\n",
       "<table border=\"1\" class=\"dataframe\">\n",
       "  <thead>\n",
       "    <tr style=\"text-align: right;\">\n",
       "      <th></th>\n",
       "      <th>Model</th>\n",
       "      <th>Make</th>\n",
       "      <th>Transmission</th>\n",
       "      <th>Engine</th>\n",
       "      <th>Year</th>\n",
       "      <th>KM</th>\n",
       "      <th>Price</th>\n",
       "      <th>Owner</th>\n",
       "      <th>CarAge</th>\n",
       "      <th>Segment</th>\n",
       "    </tr>\n",
       "  </thead>\n",
       "  <tbody>\n",
       "    <tr>\n",
       "      <th>187</th>\n",
       "      <td>HondaCity</td>\n",
       "      <td>V MT PETROL Manual</td>\n",
       "      <td>2</td>\n",
       "      <td>1</td>\n",
       "      <td>2017</td>\n",
       "      <td>34425</td>\n",
       "      <td>814299</td>\n",
       "      <td>1st Owner</td>\n",
       "      <td>4</td>\n",
       "      <td>Sedan</td>\n",
       "    </tr>\n",
       "    <tr>\n",
       "      <th>232</th>\n",
       "      <td>JeepCompass</td>\n",
       "      <td>2.0 LONGITUDE (O) Manual</td>\n",
       "      <td>2</td>\n",
       "      <td>0</td>\n",
       "      <td>2018</td>\n",
       "      <td>14974</td>\n",
       "      <td>1559699</td>\n",
       "      <td>1st Owner</td>\n",
       "      <td>3</td>\n",
       "      <td>Compact SUV</td>\n",
       "    </tr>\n",
       "    <tr>\n",
       "      <th>250</th>\n",
       "      <td>HyundaiVerna</td>\n",
       "      <td>1.6 SX+ VTVT AT Automatic</td>\n",
       "      <td>1</td>\n",
       "      <td>1</td>\n",
       "      <td>2019</td>\n",
       "      <td>6260</td>\n",
       "      <td>1093199</td>\n",
       "      <td>2nd Owner</td>\n",
       "      <td>2</td>\n",
       "      <td>Sedan</td>\n",
       "    </tr>\n",
       "    <tr>\n",
       "      <th>256</th>\n",
       "      <td>HondaBR-V</td>\n",
       "      <td>1.5 i-VTEC V CVT Automatic</td>\n",
       "      <td>1</td>\n",
       "      <td>1</td>\n",
       "      <td>2017</td>\n",
       "      <td>38235</td>\n",
       "      <td>806199</td>\n",
       "      <td>3rd Owner</td>\n",
       "      <td>4</td>\n",
       "      <td>Compact SUV</td>\n",
       "    </tr>\n",
       "    <tr>\n",
       "      <th>258</th>\n",
       "      <td>HondaJazz</td>\n",
       "      <td>1.2 VX AT Automatic</td>\n",
       "      <td>1</td>\n",
       "      <td>1</td>\n",
       "      <td>2019</td>\n",
       "      <td>4355</td>\n",
       "      <td>949699</td>\n",
       "      <td>1st Owner</td>\n",
       "      <td>2</td>\n",
       "      <td>Hatchback</td>\n",
       "    </tr>\n",
       "    <tr>\n",
       "      <th>274</th>\n",
       "      <td>TataNEXON</td>\n",
       "      <td>XZA + 1.2 PETROL A/T Automatic</td>\n",
       "      <td>1</td>\n",
       "      <td>1</td>\n",
       "      <td>2018</td>\n",
       "      <td>26444</td>\n",
       "      <td>850599</td>\n",
       "      <td>1st Owner</td>\n",
       "      <td>3</td>\n",
       "      <td>Sub-Compact SUV</td>\n",
       "    </tr>\n",
       "    <tr>\n",
       "      <th>276</th>\n",
       "      <td>MarutiErtiga</td>\n",
       "      <td>VDI SHVS Manual</td>\n",
       "      <td>2</td>\n",
       "      <td>0</td>\n",
       "      <td>2017</td>\n",
       "      <td>37958</td>\n",
       "      <td>830799</td>\n",
       "      <td>1st Owner</td>\n",
       "      <td>4</td>\n",
       "      <td>Medium MPV</td>\n",
       "    </tr>\n",
       "    <tr>\n",
       "      <th>277</th>\n",
       "      <td>MarutiVitaraBrezza</td>\n",
       "      <td>ZDI AMT Automatic</td>\n",
       "      <td>1</td>\n",
       "      <td>0</td>\n",
       "      <td>2019</td>\n",
       "      <td>5647</td>\n",
       "      <td>1065399</td>\n",
       "      <td>1st Owner</td>\n",
       "      <td>2</td>\n",
       "      <td>Sub-Compact SUV</td>\n",
       "    </tr>\n",
       "    <tr>\n",
       "      <th>291</th>\n",
       "      <td>HyundaiVerna</td>\n",
       "      <td>1.6 SX VTVT Manual</td>\n",
       "      <td>2</td>\n",
       "      <td>1</td>\n",
       "      <td>2018</td>\n",
       "      <td>35859</td>\n",
       "      <td>979799</td>\n",
       "      <td>1st Owner</td>\n",
       "      <td>3</td>\n",
       "      <td>Sedan</td>\n",
       "    </tr>\n",
       "    <tr>\n",
       "      <th>293</th>\n",
       "      <td>MahindraXUV500</td>\n",
       "      <td>W6 AT Automatic</td>\n",
       "      <td>1</td>\n",
       "      <td>0</td>\n",
       "      <td>2016</td>\n",
       "      <td>27043</td>\n",
       "      <td>1059799</td>\n",
       "      <td>1st Owner</td>\n",
       "      <td>5</td>\n",
       "      <td>Mid SUV</td>\n",
       "    </tr>\n",
       "    <tr>\n",
       "      <th>298</th>\n",
       "      <td>HondaJazz</td>\n",
       "      <td>1.2 VX AT</td>\n",
       "      <td>0</td>\n",
       "      <td>1</td>\n",
       "      <td>2019</td>\n",
       "      <td>5183</td>\n",
       "      <td>951199</td>\n",
       "      <td>1st Owner</td>\n",
       "      <td>2</td>\n",
       "      <td>Hatchback</td>\n",
       "    </tr>\n",
       "    <tr>\n",
       "      <th>312</th>\n",
       "      <td>MarutiErtiga</td>\n",
       "      <td>VDI SHVS Manual</td>\n",
       "      <td>2</td>\n",
       "      <td>0</td>\n",
       "      <td>2017</td>\n",
       "      <td>14614</td>\n",
       "      <td>859199</td>\n",
       "      <td>1st Owner</td>\n",
       "      <td>4</td>\n",
       "      <td>Medium MPV</td>\n",
       "    </tr>\n",
       "    <tr>\n",
       "      <th>313</th>\n",
       "      <td>TataHexa</td>\n",
       "      <td>Varicor 400 XT Manual</td>\n",
       "      <td>2</td>\n",
       "      <td>0</td>\n",
       "      <td>2019</td>\n",
       "      <td>34262</td>\n",
       "      <td>1843499</td>\n",
       "      <td>1st Owner</td>\n",
       "      <td>2</td>\n",
       "      <td>Mid SUV</td>\n",
       "    </tr>\n",
       "    <tr>\n",
       "      <th>316</th>\n",
       "      <td>MarutiVitaraBrezza</td>\n",
       "      <td>VDI Manual</td>\n",
       "      <td>2</td>\n",
       "      <td>0</td>\n",
       "      <td>2019</td>\n",
       "      <td>24368</td>\n",
       "      <td>862299</td>\n",
       "      <td>1st Owner</td>\n",
       "      <td>2</td>\n",
       "      <td>Sub-Compact SUV</td>\n",
       "    </tr>\n",
       "    <tr>\n",
       "      <th>319</th>\n",
       "      <td>MarutiVitaraBrezza</td>\n",
       "      <td>ZDI PLUS Manual</td>\n",
       "      <td>2</td>\n",
       "      <td>0</td>\n",
       "      <td>2018</td>\n",
       "      <td>34396</td>\n",
       "      <td>860399</td>\n",
       "      <td>1st Owner</td>\n",
       "      <td>3</td>\n",
       "      <td>Sub-Compact SUV</td>\n",
       "    </tr>\n",
       "    <tr>\n",
       "      <th>326</th>\n",
       "      <td>MarutiVitaraBrezza</td>\n",
       "      <td>ZDI PLUS DUAL TONE Manual</td>\n",
       "      <td>2</td>\n",
       "      <td>0</td>\n",
       "      <td>2017</td>\n",
       "      <td>53498</td>\n",
       "      <td>843699</td>\n",
       "      <td>1st Owner</td>\n",
       "      <td>4</td>\n",
       "      <td>Sub-Compact SUV</td>\n",
       "    </tr>\n",
       "    <tr>\n",
       "      <th>328</th>\n",
       "      <td>HyundaiVerna</td>\n",
       "      <td>1.6 SX VTVT AT (O) Automatic</td>\n",
       "      <td>1</td>\n",
       "      <td>1</td>\n",
       "      <td>2018</td>\n",
       "      <td>26281</td>\n",
       "      <td>995399</td>\n",
       "      <td>1st Owner</td>\n",
       "      <td>3</td>\n",
       "      <td>Sedan</td>\n",
       "    </tr>\n",
       "    <tr>\n",
       "      <th>339</th>\n",
       "      <td>MarutiSCross</td>\n",
       "      <td>SIGMA SHVS Manual</td>\n",
       "      <td>2</td>\n",
       "      <td>0</td>\n",
       "      <td>2019</td>\n",
       "      <td>20110</td>\n",
       "      <td>891899</td>\n",
       "      <td>1st Owner</td>\n",
       "      <td>2</td>\n",
       "      <td>Mid SUV</td>\n",
       "    </tr>\n",
       "    <tr>\n",
       "      <th>342</th>\n",
       "      <td>HyundaiCreta</td>\n",
       "      <td>1.6 SX VTVT Manual</td>\n",
       "      <td>2</td>\n",
       "      <td>1</td>\n",
       "      <td>2018</td>\n",
       "      <td>60276</td>\n",
       "      <td>1034899</td>\n",
       "      <td>1st Owner</td>\n",
       "      <td>3</td>\n",
       "      <td>Compact SUV</td>\n",
       "    </tr>\n",
       "    <tr>\n",
       "      <th>347</th>\n",
       "      <td>TataHexa</td>\n",
       "      <td>Varicor 400 XT Manual</td>\n",
       "      <td>2</td>\n",
       "      <td>0</td>\n",
       "      <td>2019</td>\n",
       "      <td>46337</td>\n",
       "      <td>1796099</td>\n",
       "      <td>1st Owner</td>\n",
       "      <td>2</td>\n",
       "      <td>Mid SUV</td>\n",
       "    </tr>\n",
       "    <tr>\n",
       "      <th>350</th>\n",
       "      <td>MarutiVitaraBrezza</td>\n",
       "      <td>ZDI PLUS Manual</td>\n",
       "      <td>2</td>\n",
       "      <td>0</td>\n",
       "      <td>2018</td>\n",
       "      <td>48151</td>\n",
       "      <td>948099</td>\n",
       "      <td>1st Owner</td>\n",
       "      <td>3</td>\n",
       "      <td>Sub-Compact SUV</td>\n",
       "    </tr>\n",
       "    <tr>\n",
       "      <th>364</th>\n",
       "      <td>HyundaiCreta</td>\n",
       "      <td>1.6 SX CRDI</td>\n",
       "      <td>0</td>\n",
       "      <td>0</td>\n",
       "      <td>2017</td>\n",
       "      <td>123713</td>\n",
       "      <td>871299</td>\n",
       "      <td>2nd Owner</td>\n",
       "      <td>4</td>\n",
       "      <td>Compact SUV</td>\n",
       "    </tr>\n",
       "    <tr>\n",
       "      <th>374</th>\n",
       "      <td>MarutiCiaz</td>\n",
       "      <td>ALPHA 1.5 AT VTVT SHVS</td>\n",
       "      <td>0</td>\n",
       "      <td>1</td>\n",
       "      <td>2019</td>\n",
       "      <td>43775</td>\n",
       "      <td>859699</td>\n",
       "      <td>1st Owner</td>\n",
       "      <td>2</td>\n",
       "      <td>Sedan</td>\n",
       "    </tr>\n",
       "    <tr>\n",
       "      <th>390</th>\n",
       "      <td>HyundaiCreta</td>\n",
       "      <td>1.6 CRDI SX PLUS AUTO Automatic</td>\n",
       "      <td>1</td>\n",
       "      <td>0</td>\n",
       "      <td>2016</td>\n",
       "      <td>108259</td>\n",
       "      <td>914199</td>\n",
       "      <td>1st Owner</td>\n",
       "      <td>5</td>\n",
       "      <td>Compact SUV</td>\n",
       "    </tr>\n",
       "    <tr>\n",
       "      <th>395</th>\n",
       "      <td>HyundaiCreta</td>\n",
       "      <td>1.6 CRDI SX PLUS AUTO Automatic</td>\n",
       "      <td>1</td>\n",
       "      <td>0</td>\n",
       "      <td>2015</td>\n",
       "      <td>81864</td>\n",
       "      <td>832299</td>\n",
       "      <td>1st Owner</td>\n",
       "      <td>6</td>\n",
       "      <td>Compact SUV</td>\n",
       "    </tr>\n",
       "    <tr>\n",
       "      <th>397</th>\n",
       "      <td>HyundaiCreta</td>\n",
       "      <td>1.6 SX CRDI</td>\n",
       "      <td>0</td>\n",
       "      <td>0</td>\n",
       "      <td>2017</td>\n",
       "      <td>112774</td>\n",
       "      <td>896899</td>\n",
       "      <td>1st Owner</td>\n",
       "      <td>4</td>\n",
       "      <td>Compact SUV</td>\n",
       "    </tr>\n",
       "    <tr>\n",
       "      <th>407</th>\n",
       "      <td>ToyotaInnovaCrysta</td>\n",
       "      <td>2.4 ZX 7 STR Manual</td>\n",
       "      <td>2</td>\n",
       "      <td>0</td>\n",
       "      <td>2016</td>\n",
       "      <td>276979</td>\n",
       "      <td>1493499</td>\n",
       "      <td>1st Owner</td>\n",
       "      <td>5</td>\n",
       "      <td>Medium MPV</td>\n",
       "    </tr>\n",
       "    <tr>\n",
       "      <th>410</th>\n",
       "      <td>HyundaiTucsonNew</td>\n",
       "      <td>2WD AT GLS DIESEL Automatic</td>\n",
       "      <td>1</td>\n",
       "      <td>0</td>\n",
       "      <td>2016</td>\n",
       "      <td>132269</td>\n",
       "      <td>1196699</td>\n",
       "      <td>1st Owner</td>\n",
       "      <td>5</td>\n",
       "      <td>Mid SUV</td>\n",
       "    </tr>\n",
       "    <tr>\n",
       "      <th>420</th>\n",
       "      <td>MahindraXUV500</td>\n",
       "      <td>W10 Manual</td>\n",
       "      <td>2</td>\n",
       "      <td>0</td>\n",
       "      <td>2016</td>\n",
       "      <td>163495</td>\n",
       "      <td>1114199</td>\n",
       "      <td>1st Owner</td>\n",
       "      <td>5</td>\n",
       "      <td>Mid SUV</td>\n",
       "    </tr>\n",
       "    <tr>\n",
       "      <th>426</th>\n",
       "      <td>ToyotaInnova</td>\n",
       "      <td>2.5 GX 7 STR BS IV Manual</td>\n",
       "      <td>2</td>\n",
       "      <td>0</td>\n",
       "      <td>2014</td>\n",
       "      <td>123683</td>\n",
       "      <td>1029899</td>\n",
       "      <td>1st Owner</td>\n",
       "      <td>7</td>\n",
       "      <td>Medium MPV</td>\n",
       "    </tr>\n",
       "    <tr>\n",
       "      <th>428</th>\n",
       "      <td>ToyotaInnova</td>\n",
       "      <td>2.5 VX 7 STR BS IV Manual</td>\n",
       "      <td>2</td>\n",
       "      <td>0</td>\n",
       "      <td>2013</td>\n",
       "      <td>221916</td>\n",
       "      <td>851299</td>\n",
       "      <td>1st Owner</td>\n",
       "      <td>8</td>\n",
       "      <td>Medium MPV</td>\n",
       "    </tr>\n",
       "    <tr>\n",
       "      <th>452</th>\n",
       "      <td>HyundaiCreta</td>\n",
       "      <td>1.6 SX CRDI</td>\n",
       "      <td>0</td>\n",
       "      <td>0</td>\n",
       "      <td>2017</td>\n",
       "      <td>97959</td>\n",
       "      <td>904599</td>\n",
       "      <td>1st Owner</td>\n",
       "      <td>4</td>\n",
       "      <td>Compact SUV</td>\n",
       "    </tr>\n",
       "    <tr>\n",
       "      <th>520</th>\n",
       "      <td>HyundaiVENUE</td>\n",
       "      <td>1.0 TURBO GDI SX+ AT</td>\n",
       "      <td>0</td>\n",
       "      <td>1</td>\n",
       "      <td>2020</td>\n",
       "      <td>15076</td>\n",
       "      <td>1049399</td>\n",
       "      <td>2nd Owner</td>\n",
       "      <td>1</td>\n",
       "      <td>Sub-Compact SUV</td>\n",
       "    </tr>\n",
       "    <tr>\n",
       "      <th>522</th>\n",
       "      <td>HyundaiCreta</td>\n",
       "      <td>1.6 VTVT SX AUTO Automatic</td>\n",
       "      <td>1</td>\n",
       "      <td>1</td>\n",
       "      <td>2019</td>\n",
       "      <td>17855</td>\n",
       "      <td>1224699</td>\n",
       "      <td>2nd Owner</td>\n",
       "      <td>2</td>\n",
       "      <td>Compact SUV</td>\n",
       "    </tr>\n",
       "    <tr>\n",
       "      <th>524</th>\n",
       "      <td>HyundaiCreta</td>\n",
       "      <td>1.6 SX PLUS DIESEL Manual</td>\n",
       "      <td>2</td>\n",
       "      <td>0</td>\n",
       "      <td>2018</td>\n",
       "      <td>36684</td>\n",
       "      <td>1118399</td>\n",
       "      <td>1st Owner</td>\n",
       "      <td>3</td>\n",
       "      <td>Compact SUV</td>\n",
       "    </tr>\n",
       "    <tr>\n",
       "      <th>526</th>\n",
       "      <td>HondaWR-V</td>\n",
       "      <td>1.5 i-DTEC VX MT Manual</td>\n",
       "      <td>2</td>\n",
       "      <td>0</td>\n",
       "      <td>2019</td>\n",
       "      <td>32568</td>\n",
       "      <td>893699</td>\n",
       "      <td>1st Owner</td>\n",
       "      <td>2</td>\n",
       "      <td>Small MPV</td>\n",
       "    </tr>\n",
       "    <tr>\n",
       "      <th>528</th>\n",
       "      <td>HondaWR-V</td>\n",
       "      <td>1.5 i-DTEC VX MT Manual</td>\n",
       "      <td>2</td>\n",
       "      <td>0</td>\n",
       "      <td>2019</td>\n",
       "      <td>30092</td>\n",
       "      <td>909199</td>\n",
       "      <td>1st Owner</td>\n",
       "      <td>2</td>\n",
       "      <td>Small MPV</td>\n",
       "    </tr>\n",
       "    <tr>\n",
       "      <th>534</th>\n",
       "      <td>HyundaiCreta</td>\n",
       "      <td>1.6 SX CRDI</td>\n",
       "      <td>0</td>\n",
       "      <td>0</td>\n",
       "      <td>2018</td>\n",
       "      <td>47876</td>\n",
       "      <td>1112799</td>\n",
       "      <td>1st Owner</td>\n",
       "      <td>3</td>\n",
       "      <td>Compact SUV</td>\n",
       "    </tr>\n",
       "    <tr>\n",
       "      <th>535</th>\n",
       "      <td>HondaBR-V</td>\n",
       "      <td>1.5 i-VTEC VX Manual</td>\n",
       "      <td>2</td>\n",
       "      <td>1</td>\n",
       "      <td>2017</td>\n",
       "      <td>37711</td>\n",
       "      <td>875099</td>\n",
       "      <td>1st Owner</td>\n",
       "      <td>4</td>\n",
       "      <td>Compact SUV</td>\n",
       "    </tr>\n",
       "    <tr>\n",
       "      <th>541</th>\n",
       "      <td>MahindraXUV500</td>\n",
       "      <td>W7 FWD Manual</td>\n",
       "      <td>2</td>\n",
       "      <td>0</td>\n",
       "      <td>2018</td>\n",
       "      <td>68112</td>\n",
       "      <td>1196599</td>\n",
       "      <td>1st Owner</td>\n",
       "      <td>3</td>\n",
       "      <td>Mid SUV</td>\n",
       "    </tr>\n",
       "    <tr>\n",
       "      <th>542</th>\n",
       "      <td>MahindraXUV3OO</td>\n",
       "      <td>W8(O) Manual</td>\n",
       "      <td>2</td>\n",
       "      <td>0</td>\n",
       "      <td>2019</td>\n",
       "      <td>14187</td>\n",
       "      <td>1154499</td>\n",
       "      <td>1st Owner</td>\n",
       "      <td>2</td>\n",
       "      <td>Mid SUV</td>\n",
       "    </tr>\n",
       "    <tr>\n",
       "      <th>545</th>\n",
       "      <td>HyundaiSantaFe</td>\n",
       "      <td>2WD AT Automatic</td>\n",
       "      <td>1</td>\n",
       "      <td>0</td>\n",
       "      <td>2016</td>\n",
       "      <td>93127</td>\n",
       "      <td>875699</td>\n",
       "      <td>1st Owner</td>\n",
       "      <td>5</td>\n",
       "      <td>Mid SUV</td>\n",
       "    </tr>\n",
       "    <tr>\n",
       "      <th>547</th>\n",
       "      <td>MahindraXUV500</td>\n",
       "      <td>W10 Manual</td>\n",
       "      <td>2</td>\n",
       "      <td>0</td>\n",
       "      <td>2015</td>\n",
       "      <td>107622</td>\n",
       "      <td>1061999</td>\n",
       "      <td>1st Owner</td>\n",
       "      <td>6</td>\n",
       "      <td>Mid SUV</td>\n",
       "    </tr>\n",
       "    <tr>\n",
       "      <th>549</th>\n",
       "      <td>HyundaiCreta</td>\n",
       "      <td>1.6 SX PLUS DIESEL Manual</td>\n",
       "      <td>2</td>\n",
       "      <td>0</td>\n",
       "      <td>2018</td>\n",
       "      <td>45311</td>\n",
       "      <td>1110299</td>\n",
       "      <td>1st Owner</td>\n",
       "      <td>3</td>\n",
       "      <td>Compact SUV</td>\n",
       "    </tr>\n",
       "    <tr>\n",
       "      <th>550</th>\n",
       "      <td>JeepCompass</td>\n",
       "      <td>2.0 LIMITED Manual</td>\n",
       "      <td>2</td>\n",
       "      <td>0</td>\n",
       "      <td>2017</td>\n",
       "      <td>24303</td>\n",
       "      <td>1468599</td>\n",
       "      <td>1st Owner</td>\n",
       "      <td>4</td>\n",
       "      <td>Compact SUV</td>\n",
       "    </tr>\n",
       "    <tr>\n",
       "      <th>553</th>\n",
       "      <td>AudiQ3</td>\n",
       "      <td>2.0 TDI Automatic</td>\n",
       "      <td>1</td>\n",
       "      <td>0</td>\n",
       "      <td>2014</td>\n",
       "      <td>67509</td>\n",
       "      <td>1269599</td>\n",
       "      <td>2nd Owner</td>\n",
       "      <td>7</td>\n",
       "      <td>Executive Sedan</td>\n",
       "    </tr>\n",
       "    <tr>\n",
       "      <th>556</th>\n",
       "      <td>HondaCRV</td>\n",
       "      <td>2.4 AWD AT Manual</td>\n",
       "      <td>2</td>\n",
       "      <td>1</td>\n",
       "      <td>2015</td>\n",
       "      <td>80621</td>\n",
       "      <td>1151099</td>\n",
       "      <td>1st Owner</td>\n",
       "      <td>6</td>\n",
       "      <td>Small MPV</td>\n",
       "    </tr>\n",
       "    <tr>\n",
       "      <th>565</th>\n",
       "      <td>ToyotaInnovaCrysta</td>\n",
       "      <td>2.4 ZX 7 STR Manual</td>\n",
       "      <td>2</td>\n",
       "      <td>0</td>\n",
       "      <td>2016</td>\n",
       "      <td>154390</td>\n",
       "      <td>1533299</td>\n",
       "      <td>1st Owner</td>\n",
       "      <td>5</td>\n",
       "      <td>Medium MPV</td>\n",
       "    </tr>\n",
       "    <tr>\n",
       "      <th>567</th>\n",
       "      <td>HyundaiCreta</td>\n",
       "      <td>1.6 CRDI SX PLUS AUTO Automatic</td>\n",
       "      <td>1</td>\n",
       "      <td>0</td>\n",
       "      <td>2016</td>\n",
       "      <td>136583</td>\n",
       "      <td>812699</td>\n",
       "      <td>1st Owner</td>\n",
       "      <td>5</td>\n",
       "      <td>Compact SUV</td>\n",
       "    </tr>\n",
       "    <tr>\n",
       "      <th>568</th>\n",
       "      <td>FordEcosport</td>\n",
       "      <td>1.5TITANIUM TDCI Manual</td>\n",
       "      <td>2</td>\n",
       "      <td>0</td>\n",
       "      <td>2020</td>\n",
       "      <td>11520</td>\n",
       "      <td>973299</td>\n",
       "      <td>1st Owner</td>\n",
       "      <td>1</td>\n",
       "      <td>Sub-Compact SUV</td>\n",
       "    </tr>\n",
       "    <tr>\n",
       "      <th>572</th>\n",
       "      <td>HyundaiCreta</td>\n",
       "      <td>1.6 SX (O) VTVT Manual</td>\n",
       "      <td>2</td>\n",
       "      <td>1</td>\n",
       "      <td>2018</td>\n",
       "      <td>18813</td>\n",
       "      <td>925099</td>\n",
       "      <td>1st Owner</td>\n",
       "      <td>3</td>\n",
       "      <td>Compact SUV</td>\n",
       "    </tr>\n",
       "  </tbody>\n",
       "</table>\n",
       "</div>"
      ],
      "text/plain": [
       "                  Model                             Make  Transmission  \\\n",
       "187           HondaCity               V MT PETROL Manual             2   \n",
       "232         JeepCompass         2.0 LONGITUDE (O) Manual             2   \n",
       "250        HyundaiVerna        1.6 SX+ VTVT AT Automatic             1   \n",
       "256           HondaBR-V       1.5 i-VTEC V CVT Automatic             1   \n",
       "258           HondaJazz              1.2 VX AT Automatic             1   \n",
       "274           TataNEXON   XZA + 1.2 PETROL A/T Automatic             1   \n",
       "276        MarutiErtiga                  VDI SHVS Manual             2   \n",
       "277  MarutiVitaraBrezza                ZDI AMT Automatic             1   \n",
       "291        HyundaiVerna               1.6 SX VTVT Manual             2   \n",
       "293      MahindraXUV500                  W6 AT Automatic             1   \n",
       "298           HondaJazz                       1.2 VX AT              0   \n",
       "312        MarutiErtiga                  VDI SHVS Manual             2   \n",
       "313            TataHexa            Varicor 400 XT Manual             2   \n",
       "316  MarutiVitaraBrezza                       VDI Manual             2   \n",
       "319  MarutiVitaraBrezza                  ZDI PLUS Manual             2   \n",
       "326  MarutiVitaraBrezza        ZDI PLUS DUAL TONE Manual             2   \n",
       "328        HyundaiVerna     1.6 SX VTVT AT (O) Automatic             1   \n",
       "339        MarutiSCross                SIGMA SHVS Manual             2   \n",
       "342        HyundaiCreta               1.6 SX VTVT Manual             2   \n",
       "347            TataHexa            Varicor 400 XT Manual             2   \n",
       "350  MarutiVitaraBrezza                  ZDI PLUS Manual             2   \n",
       "364        HyundaiCreta                     1.6 SX CRDI              0   \n",
       "374          MarutiCiaz          ALPHA 1.5 AT VTVT SHVS              0   \n",
       "390        HyundaiCreta  1.6 CRDI SX PLUS AUTO Automatic             1   \n",
       "395        HyundaiCreta  1.6 CRDI SX PLUS AUTO Automatic             1   \n",
       "397        HyundaiCreta                     1.6 SX CRDI              0   \n",
       "407  ToyotaInnovaCrysta              2.4 ZX 7 STR Manual             2   \n",
       "410    HyundaiTucsonNew      2WD AT GLS DIESEL Automatic             1   \n",
       "420      MahindraXUV500                       W10 Manual             2   \n",
       "426        ToyotaInnova        2.5 GX 7 STR BS IV Manual             2   \n",
       "428        ToyotaInnova        2.5 VX 7 STR BS IV Manual             2   \n",
       "452        HyundaiCreta                     1.6 SX CRDI              0   \n",
       "520        HyundaiVENUE            1.0 TURBO GDI SX+ AT              0   \n",
       "522        HyundaiCreta       1.6 VTVT SX AUTO Automatic             1   \n",
       "524        HyundaiCreta        1.6 SX PLUS DIESEL Manual             2   \n",
       "526           HondaWR-V          1.5 i-DTEC VX MT Manual             2   \n",
       "528           HondaWR-V          1.5 i-DTEC VX MT Manual             2   \n",
       "534        HyundaiCreta                     1.6 SX CRDI              0   \n",
       "535           HondaBR-V             1.5 i-VTEC VX Manual             2   \n",
       "541      MahindraXUV500                    W7 FWD Manual             2   \n",
       "542      MahindraXUV3OO                     W8(O) Manual             2   \n",
       "545      HyundaiSantaFe                 2WD AT Automatic             1   \n",
       "547      MahindraXUV500                       W10 Manual             2   \n",
       "549        HyundaiCreta        1.6 SX PLUS DIESEL Manual             2   \n",
       "550         JeepCompass               2.0 LIMITED Manual             2   \n",
       "553              AudiQ3                2.0 TDI Automatic             1   \n",
       "556            HondaCRV                2.4 AWD AT Manual             2   \n",
       "565  ToyotaInnovaCrysta              2.4 ZX 7 STR Manual             2   \n",
       "567        HyundaiCreta  1.6 CRDI SX PLUS AUTO Automatic             1   \n",
       "568        FordEcosport          1.5TITANIUM TDCI Manual             2   \n",
       "572        HyundaiCreta           1.6 SX (O) VTVT Manual             2   \n",
       "\n",
       "     Engine  Year      KM    Price      Owner  CarAge          Segment  \n",
       "187       1  2017   34425   814299  1st Owner       4            Sedan  \n",
       "232       0  2018   14974  1559699  1st Owner       3      Compact SUV  \n",
       "250       1  2019    6260  1093199  2nd Owner       2            Sedan  \n",
       "256       1  2017   38235   806199  3rd Owner       4      Compact SUV  \n",
       "258       1  2019    4355   949699  1st Owner       2        Hatchback  \n",
       "274       1  2018   26444   850599  1st Owner       3  Sub-Compact SUV  \n",
       "276       0  2017   37958   830799  1st Owner       4       Medium MPV  \n",
       "277       0  2019    5647  1065399  1st Owner       2  Sub-Compact SUV  \n",
       "291       1  2018   35859   979799  1st Owner       3            Sedan  \n",
       "293       0  2016   27043  1059799  1st Owner       5          Mid SUV  \n",
       "298       1  2019    5183   951199  1st Owner       2        Hatchback  \n",
       "312       0  2017   14614   859199  1st Owner       4       Medium MPV  \n",
       "313       0  2019   34262  1843499  1st Owner       2          Mid SUV  \n",
       "316       0  2019   24368   862299  1st Owner       2  Sub-Compact SUV  \n",
       "319       0  2018   34396   860399  1st Owner       3  Sub-Compact SUV  \n",
       "326       0  2017   53498   843699  1st Owner       4  Sub-Compact SUV  \n",
       "328       1  2018   26281   995399  1st Owner       3            Sedan  \n",
       "339       0  2019   20110   891899  1st Owner       2          Mid SUV  \n",
       "342       1  2018   60276  1034899  1st Owner       3      Compact SUV  \n",
       "347       0  2019   46337  1796099  1st Owner       2          Mid SUV  \n",
       "350       0  2018   48151   948099  1st Owner       3  Sub-Compact SUV  \n",
       "364       0  2017  123713   871299  2nd Owner       4      Compact SUV  \n",
       "374       1  2019   43775   859699  1st Owner       2            Sedan  \n",
       "390       0  2016  108259   914199  1st Owner       5      Compact SUV  \n",
       "395       0  2015   81864   832299  1st Owner       6      Compact SUV  \n",
       "397       0  2017  112774   896899  1st Owner       4      Compact SUV  \n",
       "407       0  2016  276979  1493499  1st Owner       5       Medium MPV  \n",
       "410       0  2016  132269  1196699  1st Owner       5          Mid SUV  \n",
       "420       0  2016  163495  1114199  1st Owner       5          Mid SUV  \n",
       "426       0  2014  123683  1029899  1st Owner       7       Medium MPV  \n",
       "428       0  2013  221916   851299  1st Owner       8       Medium MPV  \n",
       "452       0  2017   97959   904599  1st Owner       4      Compact SUV  \n",
       "520       1  2020   15076  1049399  2nd Owner       1  Sub-Compact SUV  \n",
       "522       1  2019   17855  1224699  2nd Owner       2      Compact SUV  \n",
       "524       0  2018   36684  1118399  1st Owner       3      Compact SUV  \n",
       "526       0  2019   32568   893699  1st Owner       2        Small MPV  \n",
       "528       0  2019   30092   909199  1st Owner       2        Small MPV  \n",
       "534       0  2018   47876  1112799  1st Owner       3      Compact SUV  \n",
       "535       1  2017   37711   875099  1st Owner       4      Compact SUV  \n",
       "541       0  2018   68112  1196599  1st Owner       3          Mid SUV  \n",
       "542       0  2019   14187  1154499  1st Owner       2          Mid SUV  \n",
       "545       0  2016   93127   875699  1st Owner       5          Mid SUV  \n",
       "547       0  2015  107622  1061999  1st Owner       6          Mid SUV  \n",
       "549       0  2018   45311  1110299  1st Owner       3      Compact SUV  \n",
       "550       0  2017   24303  1468599  1st Owner       4      Compact SUV  \n",
       "553       0  2014   67509  1269599  2nd Owner       7  Executive Sedan  \n",
       "556       1  2015   80621  1151099  1st Owner       6        Small MPV  \n",
       "565       0  2016  154390  1533299  1st Owner       5       Medium MPV  \n",
       "567       0  2016  136583   812699  1st Owner       5      Compact SUV  \n",
       "568       0  2020   11520   973299  1st Owner       1  Sub-Compact SUV  \n",
       "572       1  2018   18813   925099  1st Owner       3      Compact SUV  "
      ]
     },
     "execution_count": 428,
     "metadata": {},
     "output_type": "execute_result"
    }
   ],
   "source": [
    "#Just a check to get the list of second hand cars with a price exceeding 800000. Notice \n",
    "# that most of the cars are SUVs with very few sedans and hatchbacks in this price range\n",
    "df[df['Price'] > 800000]"
   ]
  },
  {
   "cell_type": "code",
   "execution_count": 318,
   "id": "2b9f333d",
   "metadata": {},
   "outputs": [
    {
     "data": {
      "text/plain": [
       "2021"
      ]
     },
     "execution_count": 318,
     "metadata": {},
     "output_type": "execute_result"
    }
   ],
   "source": [
    "from datetime import date\n",
    "todays_date = date.today()\n",
    "current_year = todays_date.year\n",
    "current_year"
   ]
  },
  {
   "cell_type": "code",
   "execution_count": 319,
   "id": "76b9e0a6",
   "metadata": {},
   "outputs": [],
   "source": [
    "#Get the age of the car. \n",
    "df['CarAge'] = current_year - pd.to_numeric(df['Year'])"
   ]
  },
  {
   "cell_type": "code",
   "execution_count": 320,
   "id": "256a6682",
   "metadata": {},
   "outputs": [
    {
     "data": {
      "text/html": [
       "<div>\n",
       "<style scoped>\n",
       "    .dataframe tbody tr th:only-of-type {\n",
       "        vertical-align: middle;\n",
       "    }\n",
       "\n",
       "    .dataframe tbody tr th {\n",
       "        vertical-align: top;\n",
       "    }\n",
       "\n",
       "    .dataframe thead th {\n",
       "        text-align: right;\n",
       "    }\n",
       "</style>\n",
       "<table border=\"1\" class=\"dataframe\">\n",
       "  <thead>\n",
       "    <tr style=\"text-align: right;\">\n",
       "      <th></th>\n",
       "      <th>Model</th>\n",
       "      <th>Make</th>\n",
       "      <th>Transmission</th>\n",
       "      <th>Engine</th>\n",
       "      <th>Year</th>\n",
       "      <th>KM</th>\n",
       "      <th>Price</th>\n",
       "      <th>Owner</th>\n",
       "      <th>CarAge</th>\n",
       "    </tr>\n",
       "  </thead>\n",
       "  <tbody>\n",
       "    <tr>\n",
       "      <th>0</th>\n",
       "      <td>MarutiAlto</td>\n",
       "      <td>LXI Manual</td>\n",
       "      <td>Manual</td>\n",
       "      <td>Petrol</td>\n",
       "      <td>2020</td>\n",
       "      <td>3,494 km</td>\n",
       "      <td>419599</td>\n",
       "      <td>1st Owner</td>\n",
       "      <td>1</td>\n",
       "    </tr>\n",
       "    <tr>\n",
       "      <th>1</th>\n",
       "      <td>MarutiEeco</td>\n",
       "      <td>5 STR WITH AC PLUSHTR Manual</td>\n",
       "      <td>Manual</td>\n",
       "      <td>Petrol</td>\n",
       "      <td>2014</td>\n",
       "      <td>18,371 km</td>\n",
       "      <td>354499</td>\n",
       "      <td>1st Owner</td>\n",
       "      <td>7</td>\n",
       "    </tr>\n",
       "    <tr>\n",
       "      <th>2</th>\n",
       "      <td>MarutiSwift</td>\n",
       "      <td>LXI Manual</td>\n",
       "      <td>Manual</td>\n",
       "      <td>Petrol</td>\n",
       "      <td>2019</td>\n",
       "      <td>2,484 km</td>\n",
       "      <td>586699</td>\n",
       "      <td>1st Owner</td>\n",
       "      <td>2</td>\n",
       "    </tr>\n",
       "    <tr>\n",
       "      <th>3</th>\n",
       "      <td>RenaultKwid</td>\n",
       "      <td>1.0 RXT Opt AT Automatic</td>\n",
       "      <td>Automatic</td>\n",
       "      <td>Petrol</td>\n",
       "      <td>2020</td>\n",
       "      <td>4,824 km</td>\n",
       "      <td>483299</td>\n",
       "      <td>1st Owner</td>\n",
       "      <td>1</td>\n",
       "    </tr>\n",
       "    <tr>\n",
       "      <th>4</th>\n",
       "      <td>MarutiSwiftDzire</td>\n",
       "      <td>VXI 1.2 BS IV Manual</td>\n",
       "      <td>Manual</td>\n",
       "      <td>Petrol</td>\n",
       "      <td>2014</td>\n",
       "      <td>10,131 km</td>\n",
       "      <td>492099</td>\n",
       "      <td>1st Owner</td>\n",
       "      <td>7</td>\n",
       "    </tr>\n",
       "  </tbody>\n",
       "</table>\n",
       "</div>"
      ],
      "text/plain": [
       "              Model                          Make Transmission  Engine  Year  \\\n",
       "0        MarutiAlto                    LXI Manual       Manual  Petrol  2020   \n",
       "1        MarutiEeco  5 STR WITH AC PLUSHTR Manual       Manual  Petrol  2014   \n",
       "2       MarutiSwift                    LXI Manual       Manual  Petrol  2019   \n",
       "3       RenaultKwid      1.0 RXT Opt AT Automatic    Automatic  Petrol  2020   \n",
       "4  MarutiSwiftDzire          VXI 1.2 BS IV Manual       Manual  Petrol  2014   \n",
       "\n",
       "          KM   Price      Owner  CarAge  \n",
       "0   3,494 km  419599  1st Owner       1  \n",
       "1  18,371 km  354499  1st Owner       7  \n",
       "2   2,484 km  586699  1st Owner       2  \n",
       "3   4,824 km  483299  1st Owner       1  \n",
       "4  10,131 km  492099  1st Owner       7  "
      ]
     },
     "execution_count": 320,
     "metadata": {},
     "output_type": "execute_result"
    }
   ],
   "source": [
    "df.head()"
   ]
  },
  {
   "cell_type": "code",
   "execution_count": 321,
   "id": "e270296d",
   "metadata": {},
   "outputs": [],
   "source": [
    "#Convert KM from string to numeric\n",
    "df['KM'] = df['KM'].str.replace('km', '')\n",
    "df['KM'] = df['KM'].str.replace(',', '')\n",
    "df['KM'] = pd.to_numeric(df['KM'])"
   ]
  },
  {
   "cell_type": "code",
   "execution_count": 322,
   "id": "105802a2",
   "metadata": {},
   "outputs": [
    {
     "data": {
      "text/html": [
       "<div>\n",
       "<style scoped>\n",
       "    .dataframe tbody tr th:only-of-type {\n",
       "        vertical-align: middle;\n",
       "    }\n",
       "\n",
       "    .dataframe tbody tr th {\n",
       "        vertical-align: top;\n",
       "    }\n",
       "\n",
       "    .dataframe thead th {\n",
       "        text-align: right;\n",
       "    }\n",
       "</style>\n",
       "<table border=\"1\" class=\"dataframe\">\n",
       "  <thead>\n",
       "    <tr style=\"text-align: right;\">\n",
       "      <th></th>\n",
       "      <th>Model</th>\n",
       "      <th>Make</th>\n",
       "      <th>Transmission</th>\n",
       "      <th>Engine</th>\n",
       "      <th>Year</th>\n",
       "      <th>KM</th>\n",
       "      <th>Price</th>\n",
       "      <th>Owner</th>\n",
       "      <th>CarAge</th>\n",
       "    </tr>\n",
       "  </thead>\n",
       "  <tbody>\n",
       "    <tr>\n",
       "      <th>0</th>\n",
       "      <td>MarutiAlto</td>\n",
       "      <td>LXI Manual</td>\n",
       "      <td>Manual</td>\n",
       "      <td>Petrol</td>\n",
       "      <td>2020</td>\n",
       "      <td>3494</td>\n",
       "      <td>419599</td>\n",
       "      <td>1st Owner</td>\n",
       "      <td>1</td>\n",
       "    </tr>\n",
       "    <tr>\n",
       "      <th>1</th>\n",
       "      <td>MarutiEeco</td>\n",
       "      <td>5 STR WITH AC PLUSHTR Manual</td>\n",
       "      <td>Manual</td>\n",
       "      <td>Petrol</td>\n",
       "      <td>2014</td>\n",
       "      <td>18371</td>\n",
       "      <td>354499</td>\n",
       "      <td>1st Owner</td>\n",
       "      <td>7</td>\n",
       "    </tr>\n",
       "    <tr>\n",
       "      <th>2</th>\n",
       "      <td>MarutiSwift</td>\n",
       "      <td>LXI Manual</td>\n",
       "      <td>Manual</td>\n",
       "      <td>Petrol</td>\n",
       "      <td>2019</td>\n",
       "      <td>2484</td>\n",
       "      <td>586699</td>\n",
       "      <td>1st Owner</td>\n",
       "      <td>2</td>\n",
       "    </tr>\n",
       "    <tr>\n",
       "      <th>3</th>\n",
       "      <td>RenaultKwid</td>\n",
       "      <td>1.0 RXT Opt AT Automatic</td>\n",
       "      <td>Automatic</td>\n",
       "      <td>Petrol</td>\n",
       "      <td>2020</td>\n",
       "      <td>4824</td>\n",
       "      <td>483299</td>\n",
       "      <td>1st Owner</td>\n",
       "      <td>1</td>\n",
       "    </tr>\n",
       "    <tr>\n",
       "      <th>4</th>\n",
       "      <td>MarutiSwiftDzire</td>\n",
       "      <td>VXI 1.2 BS IV Manual</td>\n",
       "      <td>Manual</td>\n",
       "      <td>Petrol</td>\n",
       "      <td>2014</td>\n",
       "      <td>10131</td>\n",
       "      <td>492099</td>\n",
       "      <td>1st Owner</td>\n",
       "      <td>7</td>\n",
       "    </tr>\n",
       "  </tbody>\n",
       "</table>\n",
       "</div>"
      ],
      "text/plain": [
       "              Model                          Make Transmission  Engine  Year  \\\n",
       "0        MarutiAlto                    LXI Manual       Manual  Petrol  2020   \n",
       "1        MarutiEeco  5 STR WITH AC PLUSHTR Manual       Manual  Petrol  2014   \n",
       "2       MarutiSwift                    LXI Manual       Manual  Petrol  2019   \n",
       "3       RenaultKwid      1.0 RXT Opt AT Automatic    Automatic  Petrol  2020   \n",
       "4  MarutiSwiftDzire          VXI 1.2 BS IV Manual       Manual  Petrol  2014   \n",
       "\n",
       "      KM   Price      Owner  CarAge  \n",
       "0   3494  419599  1st Owner       1  \n",
       "1  18371  354499  1st Owner       7  \n",
       "2   2484  586699  1st Owner       2  \n",
       "3   4824  483299  1st Owner       1  \n",
       "4  10131  492099  1st Owner       7  "
      ]
     },
     "execution_count": 322,
     "metadata": {},
     "output_type": "execute_result"
    }
   ],
   "source": [
    "df.head()"
   ]
  },
  {
   "cell_type": "code",
   "execution_count": 327,
   "id": "a8259810",
   "metadata": {},
   "outputs": [
    {
     "data": {
      "text/html": [
       "<div>\n",
       "<style scoped>\n",
       "    .dataframe tbody tr th:only-of-type {\n",
       "        vertical-align: middle;\n",
       "    }\n",
       "\n",
       "    .dataframe tbody tr th {\n",
       "        vertical-align: top;\n",
       "    }\n",
       "\n",
       "    .dataframe thead th {\n",
       "        text-align: right;\n",
       "    }\n",
       "</style>\n",
       "<table border=\"1\" class=\"dataframe\">\n",
       "  <thead>\n",
       "    <tr style=\"text-align: right;\">\n",
       "      <th></th>\n",
       "      <th>KM</th>\n",
       "      <th>Price</th>\n",
       "      <th>CarAge</th>\n",
       "    </tr>\n",
       "  </thead>\n",
       "  <tbody>\n",
       "    <tr>\n",
       "      <th>count</th>\n",
       "      <td>576.00000</td>\n",
       "      <td>576.00000</td>\n",
       "      <td>576.00000</td>\n",
       "    </tr>\n",
       "    <tr>\n",
       "      <th>mean</th>\n",
       "      <td>50513.76215</td>\n",
       "      <td>520509.06944</td>\n",
       "      <td>4.76736</td>\n",
       "    </tr>\n",
       "    <tr>\n",
       "      <th>std</th>\n",
       "      <td>38180.54681</td>\n",
       "      <td>217336.53632</td>\n",
       "      <td>1.90598</td>\n",
       "    </tr>\n",
       "    <tr>\n",
       "      <th>min</th>\n",
       "      <td>1193.00000</td>\n",
       "      <td>208899.00000</td>\n",
       "      <td>1.00000</td>\n",
       "    </tr>\n",
       "    <tr>\n",
       "      <th>25%</th>\n",
       "      <td>21659.50000</td>\n",
       "      <td>370524.00000</td>\n",
       "      <td>3.00000</td>\n",
       "    </tr>\n",
       "    <tr>\n",
       "      <th>50%</th>\n",
       "      <td>42791.00000</td>\n",
       "      <td>484449.00000</td>\n",
       "      <td>5.00000</td>\n",
       "    </tr>\n",
       "    <tr>\n",
       "      <th>75%</th>\n",
       "      <td>68689.00000</td>\n",
       "      <td>596324.00000</td>\n",
       "      <td>6.00000</td>\n",
       "    </tr>\n",
       "    <tr>\n",
       "      <th>max</th>\n",
       "      <td>276979.00000</td>\n",
       "      <td>1843499.00000</td>\n",
       "      <td>8.00000</td>\n",
       "    </tr>\n",
       "  </tbody>\n",
       "</table>\n",
       "</div>"
      ],
      "text/plain": [
       "                KM         Price    CarAge\n",
       "count    576.00000     576.00000 576.00000\n",
       "mean   50513.76215  520509.06944   4.76736\n",
       "std    38180.54681  217336.53632   1.90598\n",
       "min     1193.00000  208899.00000   1.00000\n",
       "25%    21659.50000  370524.00000   3.00000\n",
       "50%    42791.00000  484449.00000   5.00000\n",
       "75%    68689.00000  596324.00000   6.00000\n",
       "max   276979.00000 1843499.00000   8.00000"
      ]
     },
     "execution_count": 327,
     "metadata": {},
     "output_type": "execute_result"
    }
   ],
   "source": [
    "df.describe()"
   ]
  },
  {
   "cell_type": "code",
   "execution_count": 326,
   "id": "f4d02e70",
   "metadata": {},
   "outputs": [
    {
     "data": {
      "text/plain": [
       "array(['MarutiAlto', 'MarutiEeco', 'MarutiSwift', 'RenaultKwid',\n",
       "       'MarutiSwiftDzire', 'MarutiAlto800', 'MarutiWagonR1.0',\n",
       "       'HyundaiEon', 'TataTiago', 'MarutiAltoK10', 'MarutiOMNIE',\n",
       "       'MarutiAStar', 'MarutiCelerio', 'MarutiDzire', 'Hyundaii20',\n",
       "       'HyundaiGrandi10', 'FordEcosport', 'MarutiSPRESSO',\n",
       "       'HyundaiElitei20', 'FordFigo', 'Hyundaii10', 'HondaBrio',\n",
       "       'HyundaiNEWSANTRO', 'FordNewFigo', 'HondaJazz', 'HondaAmaze',\n",
       "       'MarutiBaleno', 'VolkswagenPolo', 'MarutiIGNIS',\n",
       "       'NissanMicraActive', 'MahindraTUV300', 'HondaCity', 'HondaMobilio',\n",
       "       'MarutiCiaz', 'RenaultTRIBER', 'Hyundaii20Active', 'JeepCompass',\n",
       "       'HyundaiVerna', 'FordFigoAspire', 'HondaBR-V', 'NissanMicra',\n",
       "       'TataNEXON', 'MarutiErtiga', 'MarutiVitaraBrezza',\n",
       "       'MahindraXUV500', 'VolkswagenVento', 'TataHexa', 'MarutiSCross',\n",
       "       'HyundaiCreta', 'MahindraXylo', 'MarutiRitz', 'MarutiNewWagon-R',\n",
       "       'RenaultDuster', 'ToyotaInnovaCrysta', 'NissanTerrano',\n",
       "       'HyundaiTucsonNew', 'HyundaiXcent', 'RenaultLodgy', 'ToyotaInnova',\n",
       "       'VolkswagenAmeo', 'FiatGrandPunto', 'HyundaiGRANDI10NIOS',\n",
       "       'SkodaSuperb', 'HyundaiVENUE', 'MarutiWagonRStingray', 'HondaWR-V',\n",
       "       'MahindraXUV3OO', 'HyundaiSantaFe', 'AudiQ3', 'HondaCRV'],\n",
       "      dtype=object)"
      ]
     },
     "execution_count": 326,
     "metadata": {},
     "output_type": "execute_result"
    }
   ],
   "source": [
    "#Get the list of unique car models. There are about 60 of them\n",
    "df['Model'].unique()"
   ]
  },
  {
   "cell_type": "code",
   "execution_count": 328,
   "id": "668b5e5f",
   "metadata": {},
   "outputs": [
    {
     "data": {
      "text/plain": [
       "<AxesSubplot:xlabel='KM', ylabel='Price'>"
      ]
     },
     "execution_count": 328,
     "metadata": {},
     "output_type": "execute_result"
    },
    {
     "data": {
      "image/png": "[encoded data removed]",
      "text/plain": [
       "<Figure size 432x288 with 1 Axes>"
      ]
     },
     "metadata": {
      "needs_background": "light"
     },
     "output_type": "display_data"
    }
   ],
   "source": [
    "#A high level scatter plot between KM and Price shows that more KMs imply more usage of the car \n",
    "# and hence lesse price. However this once again depends upon the specific car models \n",
    "# so we will split up the models into different segments\n",
    "df.plot.scatter(x='KM',y='Price')"
   ]
  },
  {
   "cell_type": "code",
   "execution_count": 330,
   "id": "5844233d",
   "metadata": {},
   "outputs": [
    {
     "data": {
      "text/plain": [
       "<AxesSubplot:xlabel='CarAge', ylabel='Price'>"
      ]
     },
     "execution_count": 330,
     "metadata": {},
     "output_type": "execute_result"
    },
    {
     "data": {
      "image/png": "[encoded data removed]",
      "text/plain": [
       "<Figure size 432x288 with 1 Axes>"
      ]
     },
     "metadata": {
      "needs_background": "light"
     },
     "output_type": "display_data"
    }
   ],
   "source": [
    "# The greater the age of the car the lesser the price. However this alone is not sufficient\n",
    "# to determime the price\n",
    "df.plot.scatter(x='CarAge',y='Price')"
   ]
  },
  {
   "cell_type": "code",
   "execution_count": 331,
   "id": "a5e8f7f8",
   "metadata": {},
   "outputs": [
    {
     "data": {
      "text/plain": [
       "{'whiskers': [<matplotlib.lines.Line2D at 0x7fbf8134a0d0>,\n",
       "  <matplotlib.lines.Line2D at 0x7fbf8134a430>],\n",
       " 'caps': [<matplotlib.lines.Line2D at 0x7fbf8134a790>,\n",
       "  <matplotlib.lines.Line2D at 0x7fbf8134aaf0>],\n",
       " 'boxes': [<matplotlib.lines.Line2D at 0x7fbf81338d30>],\n",
       " 'medians': [<matplotlib.lines.Line2D at 0x7fbf8134ae50>],\n",
       " 'fliers': [<matplotlib.lines.Line2D at 0x7fbf813541f0>],\n",
       " 'means': []}"
      ]
     },
     "execution_count": 331,
     "metadata": {},
     "output_type": "execute_result"
    },
    {
     "data": {
      "image/png": "[encoded data removed]",
      "text/plain": [
       "<Figure size 432x288 with 1 Axes>"
      ]
     },
     "metadata": {
      "needs_background": "light"
     },
     "output_type": "display_data"
    }
   ],
   "source": [
    "#most of the cars have travelled less than 1.5L km. There are some cars exceeding this number\n",
    "plt.boxplot(df['KM'])"
   ]
  },
  {
   "cell_type": "code",
   "execution_count": 430,
   "id": "11bfe814",
   "metadata": {},
   "outputs": [
    {
     "data": {
      "text/html": [
       "<div>\n",
       "<style scoped>\n",
       "    .dataframe tbody tr th:only-of-type {\n",
       "        vertical-align: middle;\n",
       "    }\n",
       "\n",
       "    .dataframe tbody tr th {\n",
       "        vertical-align: top;\n",
       "    }\n",
       "\n",
       "    .dataframe thead th {\n",
       "        text-align: right;\n",
       "    }\n",
       "</style>\n",
       "<table border=\"1\" class=\"dataframe\">\n",
       "  <thead>\n",
       "    <tr style=\"text-align: right;\">\n",
       "      <th></th>\n",
       "      <th>Model</th>\n",
       "      <th>Make</th>\n",
       "      <th>Transmission</th>\n",
       "      <th>Engine</th>\n",
       "      <th>Year</th>\n",
       "      <th>KM</th>\n",
       "      <th>Price</th>\n",
       "      <th>Owner</th>\n",
       "      <th>CarAge</th>\n",
       "      <th>Segment</th>\n",
       "    </tr>\n",
       "  </thead>\n",
       "  <tbody>\n",
       "    <tr>\n",
       "      <th>406</th>\n",
       "      <td>MarutiSwiftDzire</td>\n",
       "      <td>ZDI Manual</td>\n",
       "      <td>2</td>\n",
       "      <td>0</td>\n",
       "      <td>2013</td>\n",
       "      <td>199145</td>\n",
       "      <td>390399</td>\n",
       "      <td>1st Owner</td>\n",
       "      <td>8</td>\n",
       "      <td>Sedan</td>\n",
       "    </tr>\n",
       "    <tr>\n",
       "      <th>407</th>\n",
       "      <td>ToyotaInnovaCrysta</td>\n",
       "      <td>2.4 ZX 7 STR Manual</td>\n",
       "      <td>2</td>\n",
       "      <td>0</td>\n",
       "      <td>2016</td>\n",
       "      <td>276979</td>\n",
       "      <td>1493499</td>\n",
       "      <td>1st Owner</td>\n",
       "      <td>5</td>\n",
       "      <td>Medium MPV</td>\n",
       "    </tr>\n",
       "    <tr>\n",
       "      <th>408</th>\n",
       "      <td>MarutiSwiftDzire</td>\n",
       "      <td>VDI BS IV Manual</td>\n",
       "      <td>2</td>\n",
       "      <td>0</td>\n",
       "      <td>2013</td>\n",
       "      <td>162266</td>\n",
       "      <td>423499</td>\n",
       "      <td>1st Owner</td>\n",
       "      <td>8</td>\n",
       "      <td>Sedan</td>\n",
       "    </tr>\n",
       "    <tr>\n",
       "      <th>409</th>\n",
       "      <td>NissanTerrano</td>\n",
       "      <td>XV D THP PREMIUM 110 PS Manual</td>\n",
       "      <td>2</td>\n",
       "      <td>0</td>\n",
       "      <td>2015</td>\n",
       "      <td>153233</td>\n",
       "      <td>491199</td>\n",
       "      <td>1st Owner</td>\n",
       "      <td>6</td>\n",
       "      <td>Mid SUV</td>\n",
       "    </tr>\n",
       "    <tr>\n",
       "      <th>412</th>\n",
       "      <td>MarutiSwift</td>\n",
       "      <td>VDI ABS Manual</td>\n",
       "      <td>2</td>\n",
       "      <td>0</td>\n",
       "      <td>2016</td>\n",
       "      <td>146889</td>\n",
       "      <td>480899</td>\n",
       "      <td>1st Owner</td>\n",
       "      <td>5</td>\n",
       "      <td>Hatchback</td>\n",
       "    </tr>\n",
       "    <tr>\n",
       "      <th>414</th>\n",
       "      <td>Hyundaii10</td>\n",
       "      <td>MAGNA 1.1 IRDE2 Manual</td>\n",
       "      <td>2</td>\n",
       "      <td>1</td>\n",
       "      <td>2014</td>\n",
       "      <td>148169</td>\n",
       "      <td>316999</td>\n",
       "      <td>1st Owner</td>\n",
       "      <td>7</td>\n",
       "      <td>Mini Hatchback</td>\n",
       "    </tr>\n",
       "    <tr>\n",
       "      <th>417</th>\n",
       "      <td>RenaultDuster</td>\n",
       "      <td>85 PS RXE Manual</td>\n",
       "      <td>2</td>\n",
       "      <td>0</td>\n",
       "      <td>2013</td>\n",
       "      <td>173978</td>\n",
       "      <td>450699</td>\n",
       "      <td>3rd Owner</td>\n",
       "      <td>8</td>\n",
       "      <td>Compact SUV</td>\n",
       "    </tr>\n",
       "    <tr>\n",
       "      <th>418</th>\n",
       "      <td>HyundaiXcent</td>\n",
       "      <td>S 1.2 Manual</td>\n",
       "      <td>2</td>\n",
       "      <td>1</td>\n",
       "      <td>2015</td>\n",
       "      <td>234911</td>\n",
       "      <td>354199</td>\n",
       "      <td>1st Owner</td>\n",
       "      <td>6</td>\n",
       "      <td>Sedan</td>\n",
       "    </tr>\n",
       "    <tr>\n",
       "      <th>420</th>\n",
       "      <td>MahindraXUV500</td>\n",
       "      <td>W10 Manual</td>\n",
       "      <td>2</td>\n",
       "      <td>0</td>\n",
       "      <td>2016</td>\n",
       "      <td>163495</td>\n",
       "      <td>1114199</td>\n",
       "      <td>1st Owner</td>\n",
       "      <td>5</td>\n",
       "      <td>Mid SUV</td>\n",
       "    </tr>\n",
       "    <tr>\n",
       "      <th>422</th>\n",
       "      <td>MarutiCelerio</td>\n",
       "      <td>ZXI AMT Automatic</td>\n",
       "      <td>1</td>\n",
       "      <td>1</td>\n",
       "      <td>2016</td>\n",
       "      <td>148728</td>\n",
       "      <td>414799</td>\n",
       "      <td>1st Owner</td>\n",
       "      <td>5</td>\n",
       "      <td>Mini Hatchback</td>\n",
       "    </tr>\n",
       "    <tr>\n",
       "      <th>424</th>\n",
       "      <td>HyundaiCreta</td>\n",
       "      <td>1.6 BASE Manual</td>\n",
       "      <td>2</td>\n",
       "      <td>1</td>\n",
       "      <td>2016</td>\n",
       "      <td>182203</td>\n",
       "      <td>595599</td>\n",
       "      <td>1st Owner</td>\n",
       "      <td>5</td>\n",
       "      <td>Compact SUV</td>\n",
       "    </tr>\n",
       "    <tr>\n",
       "      <th>425</th>\n",
       "      <td>MahindraXylo</td>\n",
       "      <td>H8 ABS AIRBAG BS IV Manual</td>\n",
       "      <td>2</td>\n",
       "      <td>0</td>\n",
       "      <td>2017</td>\n",
       "      <td>212781</td>\n",
       "      <td>714299</td>\n",
       "      <td>1st Owner</td>\n",
       "      <td>4</td>\n",
       "      <td>Mid SUV</td>\n",
       "    </tr>\n",
       "    <tr>\n",
       "      <th>427</th>\n",
       "      <td>VolkswagenPolo</td>\n",
       "      <td>HIGHLINE1.5L DIESEL Manual</td>\n",
       "      <td>2</td>\n",
       "      <td>0</td>\n",
       "      <td>2016</td>\n",
       "      <td>147338</td>\n",
       "      <td>577499</td>\n",
       "      <td>2nd Owner</td>\n",
       "      <td>5</td>\n",
       "      <td>Hatchback</td>\n",
       "    </tr>\n",
       "    <tr>\n",
       "      <th>428</th>\n",
       "      <td>ToyotaInnova</td>\n",
       "      <td>2.5 VX 7 STR BS IV Manual</td>\n",
       "      <td>2</td>\n",
       "      <td>0</td>\n",
       "      <td>2013</td>\n",
       "      <td>221916</td>\n",
       "      <td>851299</td>\n",
       "      <td>1st Owner</td>\n",
       "      <td>8</td>\n",
       "      <td>Medium MPV</td>\n",
       "    </tr>\n",
       "    <tr>\n",
       "      <th>429</th>\n",
       "      <td>MarutiSwiftDzire</td>\n",
       "      <td>ZDI Manual</td>\n",
       "      <td>2</td>\n",
       "      <td>0</td>\n",
       "      <td>2016</td>\n",
       "      <td>166618</td>\n",
       "      <td>597899</td>\n",
       "      <td>1st Owner</td>\n",
       "      <td>5</td>\n",
       "      <td>Sedan</td>\n",
       "    </tr>\n",
       "    <tr>\n",
       "      <th>430</th>\n",
       "      <td>FordEcosport</td>\n",
       "      <td>1.5 TITANIUM TI VCT AT Automatic</td>\n",
       "      <td>1</td>\n",
       "      <td>1</td>\n",
       "      <td>2016</td>\n",
       "      <td>154048</td>\n",
       "      <td>561699</td>\n",
       "      <td>1st Owner</td>\n",
       "      <td>5</td>\n",
       "      <td>Sub-Compact SUV</td>\n",
       "    </tr>\n",
       "    <tr>\n",
       "      <th>558</th>\n",
       "      <td>VolkswagenPolo</td>\n",
       "      <td>HIGHLINE1.5L DIESEL Manual</td>\n",
       "      <td>2</td>\n",
       "      <td>0</td>\n",
       "      <td>2014</td>\n",
       "      <td>170685</td>\n",
       "      <td>333299</td>\n",
       "      <td>2nd Owner</td>\n",
       "      <td>7</td>\n",
       "      <td>Hatchback</td>\n",
       "    </tr>\n",
       "    <tr>\n",
       "      <th>565</th>\n",
       "      <td>ToyotaInnovaCrysta</td>\n",
       "      <td>2.4 ZX 7 STR Manual</td>\n",
       "      <td>2</td>\n",
       "      <td>0</td>\n",
       "      <td>2016</td>\n",
       "      <td>154390</td>\n",
       "      <td>1533299</td>\n",
       "      <td>1st Owner</td>\n",
       "      <td>5</td>\n",
       "      <td>Medium MPV</td>\n",
       "    </tr>\n",
       "  </tbody>\n",
       "</table>\n",
       "</div>"
      ],
      "text/plain": [
       "                  Model                              Make  Transmission  \\\n",
       "406    MarutiSwiftDzire                        ZDI Manual             2   \n",
       "407  ToyotaInnovaCrysta               2.4 ZX 7 STR Manual             2   \n",
       "408    MarutiSwiftDzire                  VDI BS IV Manual             2   \n",
       "409       NissanTerrano    XV D THP PREMIUM 110 PS Manual             2   \n",
       "412         MarutiSwift                    VDI ABS Manual             2   \n",
       "414          Hyundaii10            MAGNA 1.1 IRDE2 Manual             2   \n",
       "417       RenaultDuster                  85 PS RXE Manual             2   \n",
       "418        HyundaiXcent                      S 1.2 Manual             2   \n",
       "420      MahindraXUV500                        W10 Manual             2   \n",
       "422       MarutiCelerio                 ZXI AMT Automatic             1   \n",
       "424        HyundaiCreta                   1.6 BASE Manual             2   \n",
       "425        MahindraXylo        H8 ABS AIRBAG BS IV Manual             2   \n",
       "427      VolkswagenPolo        HIGHLINE1.5L DIESEL Manual             2   \n",
       "428        ToyotaInnova         2.5 VX 7 STR BS IV Manual             2   \n",
       "429    MarutiSwiftDzire                        ZDI Manual             2   \n",
       "430        FordEcosport  1.5 TITANIUM TI VCT AT Automatic             1   \n",
       "558      VolkswagenPolo        HIGHLINE1.5L DIESEL Manual             2   \n",
       "565  ToyotaInnovaCrysta               2.4 ZX 7 STR Manual             2   \n",
       "\n",
       "     Engine  Year      KM    Price      Owner  CarAge          Segment  \n",
       "406       0  2013  199145   390399  1st Owner       8            Sedan  \n",
       "407       0  2016  276979  1493499  1st Owner       5       Medium MPV  \n",
       "408       0  2013  162266   423499  1st Owner       8            Sedan  \n",
       "409       0  2015  153233   491199  1st Owner       6          Mid SUV  \n",
       "412       0  2016  146889   480899  1st Owner       5        Hatchback  \n",
       "414       1  2014  148169   316999  1st Owner       7   Mini Hatchback  \n",
       "417       0  2013  173978   450699  3rd Owner       8      Compact SUV  \n",
       "418       1  2015  234911   354199  1st Owner       6            Sedan  \n",
       "420       0  2016  163495  1114199  1st Owner       5          Mid SUV  \n",
       "422       1  2016  148728   414799  1st Owner       5   Mini Hatchback  \n",
       "424       1  2016  182203   595599  1st Owner       5      Compact SUV  \n",
       "425       0  2017  212781   714299  1st Owner       4          Mid SUV  \n",
       "427       0  2016  147338   577499  2nd Owner       5        Hatchback  \n",
       "428       0  2013  221916   851299  1st Owner       8       Medium MPV  \n",
       "429       0  2016  166618   597899  1st Owner       5            Sedan  \n",
       "430       1  2016  154048   561699  1st Owner       5  Sub-Compact SUV  \n",
       "558       0  2014  170685   333299  2nd Owner       7        Hatchback  \n",
       "565       0  2016  154390  1533299  1st Owner       5       Medium MPV  "
      ]
     },
     "execution_count": 430,
     "metadata": {},
     "output_type": "execute_result"
    }
   ],
   "source": [
    "df1 = df[df['KM'] > 140000]\n",
    "df1"
   ]
  },
  {
   "cell_type": "code",
   "execution_count": 431,
   "id": "307190ea",
   "metadata": {},
   "outputs": [],
   "source": [
    "#df1.plot.scatter(x='KM',y='Price')"
   ]
  },
  {
   "cell_type": "code",
   "execution_count": 432,
   "id": "8c728874",
   "metadata": {},
   "outputs": [],
   "source": [
    "#df1.plot.scatter(x='CarAge',y='Price')"
   ]
  },
  {
   "cell_type": "code",
   "execution_count": 435,
   "id": "65c00da7",
   "metadata": {},
   "outputs": [],
   "source": [
    "#dfx1 = df[df['Model'].str.contains('Alto')]\n",
    "#dfx1"
   ]
  },
  {
   "cell_type": "code",
   "execution_count": 434,
   "id": "6036f5e9",
   "metadata": {},
   "outputs": [],
   "source": [
    "#dfx1.plot.scatter(x='KM',y='Price')"
   ]
  },
  {
   "cell_type": "code",
   "execution_count": 339,
   "id": "446428cd",
   "metadata": {},
   "outputs": [
    {
     "data": {
      "text/plain": [
       "array(['MarutiAlto', 'MarutiEeco', 'MarutiSwift', 'RenaultKwid',\n",
       "       'MarutiSwiftDzire', 'MarutiAlto800', 'MarutiWagonR1.0',\n",
       "       'HyundaiEon', 'TataTiago', 'MarutiAltoK10', 'MarutiOMNIE',\n",
       "       'MarutiAStar', 'MarutiCelerio', 'MarutiDzire', 'Hyundaii20',\n",
       "       'HyundaiGrandi10', 'FordEcosport', 'MarutiSPRESSO',\n",
       "       'HyundaiElitei20', 'FordFigo', 'Hyundaii10', 'HondaBrio',\n",
       "       'HyundaiNEWSANTRO', 'FordNewFigo', 'HondaJazz', 'HondaAmaze',\n",
       "       'MarutiBaleno', 'VolkswagenPolo', 'MarutiIGNIS',\n",
       "       'NissanMicraActive', 'MahindraTUV300', 'HondaCity', 'HondaMobilio',\n",
       "       'MarutiCiaz', 'RenaultTRIBER', 'Hyundaii20Active', 'JeepCompass',\n",
       "       'HyundaiVerna', 'FordFigoAspire', 'HondaBR-V', 'NissanMicra',\n",
       "       'TataNEXON', 'MarutiErtiga', 'MarutiVitaraBrezza',\n",
       "       'MahindraXUV500', 'VolkswagenVento', 'TataHexa', 'MarutiSCross',\n",
       "       'HyundaiCreta', 'MahindraXylo', 'MarutiRitz', 'MarutiNewWagon-R',\n",
       "       'RenaultDuster', 'ToyotaInnovaCrysta', 'NissanTerrano',\n",
       "       'HyundaiTucsonNew', 'HyundaiXcent', 'RenaultLodgy', 'ToyotaInnova',\n",
       "       'VolkswagenAmeo', 'FiatGrandPunto', 'HyundaiGRANDI10NIOS',\n",
       "       'SkodaSuperb', 'HyundaiVENUE', 'MarutiWagonRStingray', 'HondaWR-V',\n",
       "       'MahindraXUV3OO', 'HyundaiSantaFe', 'AudiQ3', 'HondaCRV'],\n",
       "      dtype=object)"
      ]
     },
     "execution_count": 339,
     "metadata": {},
     "output_type": "execute_result"
    }
   ],
   "source": [
    "df['Model'].unique()"
   ]
  },
  {
   "cell_type": "code",
   "execution_count": 374,
   "id": "fab3ed5d",
   "metadata": {},
   "outputs": [],
   "source": [
    "#Lets split up the models segment wise. We create the below 10 segments for the same\n",
    "mini_hatchbacks = ['MarutiAlto','MarutiEeco','RenaultKwid','MarutiAlto800','MarutiAStar',\n",
    "                  'MarutiCelerio','HyundaiGrandi10','Hyundaii10','HondaBrio','NissanMicraActive',\n",
    "                  'NissanMicra','MarutiAltoK10','HyundaiGRANDI10NIOS','HyundaiEon']\n",
    "hatchbacks = ['MarutiSwift','Hyundaii20','HyundaiElitei20','HyundaiNEWSANTRO','MarutiBaleno',\n",
    "             'HondaJazz','FordNewFigo','VolkswagenPolo','MarutiRitz','MarutiWagonRStingray',\n",
    "             'MarutiNewWagon-R','FiatGrandPunto','MarutiIGNIS','TataTiago','Hyundaii20Active',\n",
    "             'MarutiOMNIE','MarutiWagonR1.0','FordFigo','MarutiSPRESSO']\n",
    "sedan = ['HondaAmaze','HondaCity','HyundaiVerna','MarutiSwiftDzire','VolkswagenVento',\n",
    "        'HyundaiXcent','MarutiCiaz','MarutiDzire','VolkswagenAmeo','FordFigoAspire']\n",
    "exec_sedan = ['AudiQ3']\n",
    "mid_sedan = ['SkodaSuperb']\n",
    "small_mpv = ['HondaWR-V','RenaultTRIBER','HondaMobilio','HondaCRV']\n",
    "medium_mpv = ['ToyotaInnova','RenaultLodgy','MarutiErtiga','ToyotaInnovaCrysta']\n",
    "sub_compact_suv = ['TataNEXON','MarutiVitaraBrezza','HyundaiVENUE','MahindraTUV300','FordEcosport']\n",
    "compact_suv = ['RenaultDuster','HyundaiCreta','HyundaiCreta','JeepCompass','HondaBR-V']\n",
    "mid_suv = ['MahindraXUV500','MahindraXUV3OO','TataHexa','HyundaiSantaFe','MarutiSCross','NissanTerrano',\n",
    "          'MahindraXylo','HyundaiTucsonNew']"
   ]
  },
  {
   "cell_type": "code",
   "execution_count": 375,
   "id": "6277f73a",
   "metadata": {},
   "outputs": [],
   "source": [
    "df['Model'][0]\n",
    "df['Segment'] = None"
   ]
  },
  {
   "cell_type": "code",
   "execution_count": 376,
   "id": "30a564bc",
   "metadata": {},
   "outputs": [
    {
     "name": "stderr",
     "output_type": "stream",
     "text": [
      "<ipython-input-376-f77b73b4b68b>:3: SettingWithCopyWarning: \n",
      "A value is trying to be set on a copy of a slice from a DataFrame\n",
      "\n",
      "See the caveats in the documentation: https://pandas.pydata.org/pandas-docs/stable/user_guide/indexing.html#returning-a-view-versus-a-copy\n",
      "  df['Segment'][i] = 'Mini Hatchback'\n",
      "<ipython-input-376-f77b73b4b68b>:5: SettingWithCopyWarning: \n",
      "A value is trying to be set on a copy of a slice from a DataFrame\n",
      "\n",
      "See the caveats in the documentation: https://pandas.pydata.org/pandas-docs/stable/user_guide/indexing.html#returning-a-view-versus-a-copy\n",
      "  df['Segment'][i] = 'Hatchback'\n",
      "<ipython-input-376-f77b73b4b68b>:7: SettingWithCopyWarning: \n",
      "A value is trying to be set on a copy of a slice from a DataFrame\n",
      "\n",
      "See the caveats in the documentation: https://pandas.pydata.org/pandas-docs/stable/user_guide/indexing.html#returning-a-view-versus-a-copy\n",
      "  df['Segment'][i] = 'Sedan'\n",
      "<ipython-input-376-f77b73b4b68b>:17: SettingWithCopyWarning: \n",
      "A value is trying to be set on a copy of a slice from a DataFrame\n",
      "\n",
      "See the caveats in the documentation: https://pandas.pydata.org/pandas-docs/stable/user_guide/indexing.html#returning-a-view-versus-a-copy\n",
      "  df['Segment'][i] = 'Sub-Compact SUV'\n",
      "<ipython-input-376-f77b73b4b68b>:13: SettingWithCopyWarning: \n",
      "A value is trying to be set on a copy of a slice from a DataFrame\n",
      "\n",
      "See the caveats in the documentation: https://pandas.pydata.org/pandas-docs/stable/user_guide/indexing.html#returning-a-view-versus-a-copy\n",
      "  df['Segment'][i] = 'Small MPV'\n",
      "<ipython-input-376-f77b73b4b68b>:21: SettingWithCopyWarning: \n",
      "A value is trying to be set on a copy of a slice from a DataFrame\n",
      "\n",
      "See the caveats in the documentation: https://pandas.pydata.org/pandas-docs/stable/user_guide/indexing.html#returning-a-view-versus-a-copy\n",
      "  df['Segment'][i] = 'Compact SUV'\n",
      "<ipython-input-376-f77b73b4b68b>:15: SettingWithCopyWarning: \n",
      "A value is trying to be set on a copy of a slice from a DataFrame\n",
      "\n",
      "See the caveats in the documentation: https://pandas.pydata.org/pandas-docs/stable/user_guide/indexing.html#returning-a-view-versus-a-copy\n",
      "  df['Segment'][i] = 'Medium MPV'\n",
      "<ipython-input-376-f77b73b4b68b>:19: SettingWithCopyWarning: \n",
      "A value is trying to be set on a copy of a slice from a DataFrame\n",
      "\n",
      "See the caveats in the documentation: https://pandas.pydata.org/pandas-docs/stable/user_guide/indexing.html#returning-a-view-versus-a-copy\n",
      "  df['Segment'][i] = 'Mid SUV'\n",
      "<ipython-input-376-f77b73b4b68b>:9: SettingWithCopyWarning: \n",
      "A value is trying to be set on a copy of a slice from a DataFrame\n",
      "\n",
      "See the caveats in the documentation: https://pandas.pydata.org/pandas-docs/stable/user_guide/indexing.html#returning-a-view-versus-a-copy\n",
      "  df['Segment'][i] = 'Mid Sedan'\n",
      "<ipython-input-376-f77b73b4b68b>:11: SettingWithCopyWarning: \n",
      "A value is trying to be set on a copy of a slice from a DataFrame\n",
      "\n",
      "See the caveats in the documentation: https://pandas.pydata.org/pandas-docs/stable/user_guide/indexing.html#returning-a-view-versus-a-copy\n",
      "  df['Segment'][i] = 'Executive Sedan'\n"
     ]
    }
   ],
   "source": [
    "#Create a column names Segment and assign the models to their respective segments\n",
    "for i in range(len(df)):\n",
    "    if (df['Model'][i] in mini_hatchbacks):\n",
    "        df['Segment'][i] = 'Mini Hatchback'\n",
    "    elif(df['Model'][i] in hatchbacks):\n",
    "        df['Segment'][i] = 'Hatchback'\n",
    "    elif(df['Model'][i] in sedan):\n",
    "        df['Segment'][i] = 'Sedan'\n",
    "    elif(df['Model'][i] in mid_sedan):\n",
    "        df['Segment'][i] = 'Mid Sedan'\n",
    "    elif(df['Model'][i] in exec_sedan):\n",
    "        df['Segment'][i] = 'Executive Sedan'\n",
    "    elif(df['Model'][i] in small_mpv):\n",
    "        df['Segment'][i] = 'Small MPV'\n",
    "    elif(df['Model'][i] in medium_mpv):\n",
    "        df['Segment'][i] = 'Medium MPV'\n",
    "    elif(df['Model'][i] in sub_compact_suv):\n",
    "        df['Segment'][i] = 'Sub-Compact SUV'\n",
    "    elif(df['Model'][i] in mid_suv):\n",
    "         df['Segment'][i] = 'Mid SUV'\n",
    "    elif(df['Model'][i] in compact_suv):\n",
    "         df['Segment'][i] = 'Compact SUV'\n",
    "    else:\n",
    "         df['Segment'][i] = 'None'"
   ]
  },
  {
   "cell_type": "code",
   "execution_count": 377,
   "id": "02bcedb8",
   "metadata": {},
   "outputs": [
    {
     "data": {
      "text/html": [
       "<div>\n",
       "<style scoped>\n",
       "    .dataframe tbody tr th:only-of-type {\n",
       "        vertical-align: middle;\n",
       "    }\n",
       "\n",
       "    .dataframe tbody tr th {\n",
       "        vertical-align: top;\n",
       "    }\n",
       "\n",
       "    .dataframe thead th {\n",
       "        text-align: right;\n",
       "    }\n",
       "</style>\n",
       "<table border=\"1\" class=\"dataframe\">\n",
       "  <thead>\n",
       "    <tr style=\"text-align: right;\">\n",
       "      <th></th>\n",
       "      <th>Model</th>\n",
       "      <th>Make</th>\n",
       "      <th>Transmission</th>\n",
       "      <th>Engine</th>\n",
       "      <th>Year</th>\n",
       "      <th>KM</th>\n",
       "      <th>Price</th>\n",
       "      <th>Owner</th>\n",
       "      <th>CarAge</th>\n",
       "      <th>Segment</th>\n",
       "    </tr>\n",
       "  </thead>\n",
       "  <tbody>\n",
       "  </tbody>\n",
       "</table>\n",
       "</div>"
      ],
      "text/plain": [
       "Empty DataFrame\n",
       "Columns: [Model, Make, Transmission, Engine, Year, KM, Price, Owner, CarAge, Segment]\n",
       "Index: []"
      ]
     },
     "execution_count": 377,
     "metadata": {},
     "output_type": "execute_result"
    }
   ],
   "source": [
    "#Ensure all car models have been assigned to their segments\n",
    "df[df['Segment'] == 'None']"
   ]
  },
  {
   "cell_type": "code",
   "execution_count": 378,
   "id": "80a35f3f",
   "metadata": {},
   "outputs": [
    {
     "data": {
      "text/plain": [
       "Hatchback          230\n",
       "Mini Hatchback     192\n",
       "Sedan               67\n",
       "Sub-Compact SUV     28\n",
       "Compact SUV         23\n",
       "Mid SUV             15\n",
       "Medium MPV          12\n",
       "Small MPV            7\n",
       "Mid Sedan            1\n",
       "Executive Sedan      1\n",
       "Name: Segment, dtype: int64"
      ]
     },
     "execution_count": 378,
     "metadata": {},
     "output_type": "execute_result"
    }
   ],
   "source": [
    "#We notice that most of the cars put up for sale are either hatchbacks or mini hatchbacks\n",
    "#Followed by sedans, few number in SUV and MPV and just 1 each of mid and executive sedan\n",
    "df['Segment'].value_counts()"
   ]
  },
  {
   "cell_type": "code",
   "execution_count": 394,
   "id": "27eb9c21",
   "metadata": {},
   "outputs": [
    {
     "data": {
      "text/plain": [
       "<BarContainer object of 576 artists>"
      ]
     },
     "execution_count": 394,
     "metadata": {},
     "output_type": "execute_result"
    },
    {
     "data": {
      "image/png": "[encoded data removed]",
      "text/plain": [
       "<Figure size 1440x720 with 1 Axes>"
      ]
     },
     "metadata": {
      "needs_background": "light"
     },
     "output_type": "display_data"
    }
   ],
   "source": [
    "#Lets check the maximum price range for each segment\n",
    "#As expected hatchback and mini hatchbacks are the lowest, followed by Sedan and small MPV\n",
    "#Mid SUVs are the highest\n",
    "fig = plt.figure(1, [20, 10])\n",
    "ax = fig.add_axes([0,0,1,1])\n",
    "ax.bar(df['Segment'],df['Price'])\n"
   ]
  },
  {
   "cell_type": "code",
   "execution_count": 392,
   "id": "a88b7eea",
   "metadata": {},
   "outputs": [],
   "source": [
    "#plt.setp(ax.get_xticklabels(),fontsize=10, rotation='vertical')"
   ]
  },
  {
   "cell_type": "code",
   "execution_count": 395,
   "id": "4d4c9dd2",
   "metadata": {},
   "outputs": [
    {
     "data": {
      "text/plain": [
       "<AxesSubplot:xlabel='KM', ylabel='Price'>"
      ]
     },
     "execution_count": 395,
     "metadata": {},
     "output_type": "execute_result"
    },
    {
     "data": {
      "image/png": "[encoded data removed]",
      "text/plain": [
       "<Figure size 432x288 with 1 Axes>"
      ]
     },
     "metadata": {
      "needs_background": "light"
     },
     "output_type": "display_data"
    }
   ],
   "source": [
    "#Lets take the mini hatchbacks and explore. Scatter plot shows that prices drop with increase\n",
    "# in car usage\n",
    "dfx = df[df['Segment'] == 'Mini Hatchback']\n",
    "dfx.plot.scatter(x='KM',y='Price')"
   ]
  },
  {
   "cell_type": "code",
   "execution_count": 397,
   "id": "9b684394",
   "metadata": {},
   "outputs": [
    {
     "data": {
      "text/plain": [
       "<AxesSubplot:xlabel='CarAge', ylabel='Price'>"
      ]
     },
     "execution_count": 397,
     "metadata": {},
     "output_type": "execute_result"
    },
    {
     "data": {
      "image/png": "[encoded data removed]",
      "text/plain": [
       "<Figure size 432x288 with 1 Axes>"
      ]
     },
     "metadata": {
      "needs_background": "light"
     },
     "output_type": "display_data"
    }
   ],
   "source": [
    "#prices drop with increase in age of the car\n",
    "dfx = df[df['Segment'] == 'Mini Hatchback']\n",
    "dfx.plot.scatter(x='CarAge',y='Price')"
   ]
  },
  {
   "cell_type": "code",
   "execution_count": 400,
   "id": "75a36088",
   "metadata": {},
   "outputs": [
    {
     "data": {
      "text/plain": [
       "<BarContainer object of 192 artists>"
      ]
     },
     "execution_count": 400,
     "metadata": {},
     "output_type": "execute_result"
    },
    {
     "data": {
      "image/png": "[encoded data removed]",
      "text/plain": [
       "<Figure size 720x720 with 1 Axes>"
      ]
     },
     "metadata": {
      "needs_background": "light"
     },
     "output_type": "display_data"
    }
   ],
   "source": [
    "fig = plt.figure(1, [10, 10])\n",
    "ax = fig.add_axes([0,0,1,1])\n",
    "ax.bar(dfx['CarAge'],dfx['Price'])"
   ]
  },
  {
   "cell_type": "code",
   "execution_count": 401,
   "id": "75a671d7",
   "metadata": {},
   "outputs": [
    {
     "data": {
      "text/plain": [
       "<BarContainer object of 15 artists>"
      ]
     },
     "execution_count": 401,
     "metadata": {},
     "output_type": "execute_result"
    },
    {
     "data": {
      "image/png": "[encoded data removed]",
      "text/plain": [
       "<Figure size 720x720 with 1 Axes>"
      ]
     },
     "metadata": {
      "needs_background": "light"
     },
     "output_type": "display_data"
    }
   ],
   "source": [
    "#Price based on age of car in Mid-SUV segment. As in other cases, prices depreciate with age\n",
    "#\n",
    "dfy = df[df['Segment'] == 'Mid SUV']\n",
    "fig = plt.figure(1, [10, 10])\n",
    "ax = fig.add_axes([0,0,1,1])\n",
    "ax.bar(dfy['CarAge'],dfy['Price'])"
   ]
  },
  {
   "cell_type": "code",
   "execution_count": 402,
   "id": "a548d23f",
   "metadata": {},
   "outputs": [],
   "source": [
    "#Lets encode the  engine (petrol,diesel) and transmission (automatic,manual) values for the cars \n",
    "#and see if they have any impact on the price\n",
    "from sklearn.preprocessing import LabelEncoder\n",
    "labelencoder= LabelEncoder() #initializing an object of class LabelEncoder\n",
    "df['Engine'] = labelencoder.fit_transform(df['Engine']) #fitting and transforming the desired categorical column."
   ]
  },
  {
   "cell_type": "code",
   "execution_count": 403,
   "id": "a7ef5c44",
   "metadata": {},
   "outputs": [
    {
     "data": {
      "text/html": [
       "<div>\n",
       "<style scoped>\n",
       "    .dataframe tbody tr th:only-of-type {\n",
       "        vertical-align: middle;\n",
       "    }\n",
       "\n",
       "    .dataframe tbody tr th {\n",
       "        vertical-align: top;\n",
       "    }\n",
       "\n",
       "    .dataframe thead th {\n",
       "        text-align: right;\n",
       "    }\n",
       "</style>\n",
       "<table border=\"1\" class=\"dataframe\">\n",
       "  <thead>\n",
       "    <tr style=\"text-align: right;\">\n",
       "      <th></th>\n",
       "      <th>Model</th>\n",
       "      <th>Make</th>\n",
       "      <th>Transmission</th>\n",
       "      <th>Engine</th>\n",
       "      <th>Year</th>\n",
       "      <th>KM</th>\n",
       "      <th>Price</th>\n",
       "      <th>Owner</th>\n",
       "      <th>CarAge</th>\n",
       "      <th>Segment</th>\n",
       "    </tr>\n",
       "  </thead>\n",
       "  <tbody>\n",
       "    <tr>\n",
       "      <th>0</th>\n",
       "      <td>MarutiAlto</td>\n",
       "      <td>LXI Manual</td>\n",
       "      <td>Manual</td>\n",
       "      <td>1</td>\n",
       "      <td>2020</td>\n",
       "      <td>3494</td>\n",
       "      <td>419599</td>\n",
       "      <td>1st Owner</td>\n",
       "      <td>1</td>\n",
       "      <td>Mini Hatchback</td>\n",
       "    </tr>\n",
       "    <tr>\n",
       "      <th>1</th>\n",
       "      <td>MarutiEeco</td>\n",
       "      <td>5 STR WITH AC PLUSHTR Manual</td>\n",
       "      <td>Manual</td>\n",
       "      <td>1</td>\n",
       "      <td>2014</td>\n",
       "      <td>18371</td>\n",
       "      <td>354499</td>\n",
       "      <td>1st Owner</td>\n",
       "      <td>7</td>\n",
       "      <td>Mini Hatchback</td>\n",
       "    </tr>\n",
       "    <tr>\n",
       "      <th>2</th>\n",
       "      <td>MarutiSwift</td>\n",
       "      <td>LXI Manual</td>\n",
       "      <td>Manual</td>\n",
       "      <td>1</td>\n",
       "      <td>2019</td>\n",
       "      <td>2484</td>\n",
       "      <td>586699</td>\n",
       "      <td>1st Owner</td>\n",
       "      <td>2</td>\n",
       "      <td>Hatchback</td>\n",
       "    </tr>\n",
       "    <tr>\n",
       "      <th>3</th>\n",
       "      <td>RenaultKwid</td>\n",
       "      <td>1.0 RXT Opt AT Automatic</td>\n",
       "      <td>Automatic</td>\n",
       "      <td>1</td>\n",
       "      <td>2020</td>\n",
       "      <td>4824</td>\n",
       "      <td>483299</td>\n",
       "      <td>1st Owner</td>\n",
       "      <td>1</td>\n",
       "      <td>Mini Hatchback</td>\n",
       "    </tr>\n",
       "    <tr>\n",
       "      <th>4</th>\n",
       "      <td>MarutiSwiftDzire</td>\n",
       "      <td>VXI 1.2 BS IV Manual</td>\n",
       "      <td>Manual</td>\n",
       "      <td>1</td>\n",
       "      <td>2014</td>\n",
       "      <td>10131</td>\n",
       "      <td>492099</td>\n",
       "      <td>1st Owner</td>\n",
       "      <td>7</td>\n",
       "      <td>Sedan</td>\n",
       "    </tr>\n",
       "  </tbody>\n",
       "</table>\n",
       "</div>"
      ],
      "text/plain": [
       "              Model                          Make Transmission  Engine  Year  \\\n",
       "0        MarutiAlto                    LXI Manual       Manual       1  2020   \n",
       "1        MarutiEeco  5 STR WITH AC PLUSHTR Manual       Manual       1  2014   \n",
       "2       MarutiSwift                    LXI Manual       Manual       1  2019   \n",
       "3       RenaultKwid      1.0 RXT Opt AT Automatic    Automatic       1  2020   \n",
       "4  MarutiSwiftDzire          VXI 1.2 BS IV Manual       Manual       1  2014   \n",
       "\n",
       "      KM   Price      Owner  CarAge         Segment  \n",
       "0   3494  419599  1st Owner       1  Mini Hatchback  \n",
       "1  18371  354499  1st Owner       7  Mini Hatchback  \n",
       "2   2484  586699  1st Owner       2       Hatchback  \n",
       "3   4824  483299  1st Owner       1  Mini Hatchback  \n",
       "4  10131  492099  1st Owner       7           Sedan  "
      ]
     },
     "execution_count": 403,
     "metadata": {},
     "output_type": "execute_result"
    }
   ],
   "source": [
    "df.head()"
   ]
  },
  {
   "cell_type": "code",
   "execution_count": 404,
   "id": "f0393cd9",
   "metadata": {},
   "outputs": [],
   "source": [
    "df['Transmission'] = labelencoder.fit_transform(df['Transmission']) #fitting and transforming the desired categorical column."
   ]
  },
  {
   "cell_type": "code",
   "execution_count": 405,
   "id": "11e1a911",
   "metadata": {},
   "outputs": [
    {
     "data": {
      "text/html": [
       "<div>\n",
       "<style scoped>\n",
       "    .dataframe tbody tr th:only-of-type {\n",
       "        vertical-align: middle;\n",
       "    }\n",
       "\n",
       "    .dataframe tbody tr th {\n",
       "        vertical-align: top;\n",
       "    }\n",
       "\n",
       "    .dataframe thead th {\n",
       "        text-align: right;\n",
       "    }\n",
       "</style>\n",
       "<table border=\"1\" class=\"dataframe\">\n",
       "  <thead>\n",
       "    <tr style=\"text-align: right;\">\n",
       "      <th></th>\n",
       "      <th>Model</th>\n",
       "      <th>Make</th>\n",
       "      <th>Transmission</th>\n",
       "      <th>Engine</th>\n",
       "      <th>Year</th>\n",
       "      <th>KM</th>\n",
       "      <th>Price</th>\n",
       "      <th>Owner</th>\n",
       "      <th>CarAge</th>\n",
       "      <th>Segment</th>\n",
       "    </tr>\n",
       "  </thead>\n",
       "  <tbody>\n",
       "    <tr>\n",
       "      <th>0</th>\n",
       "      <td>MarutiAlto</td>\n",
       "      <td>LXI Manual</td>\n",
       "      <td>2</td>\n",
       "      <td>1</td>\n",
       "      <td>2020</td>\n",
       "      <td>3494</td>\n",
       "      <td>419599</td>\n",
       "      <td>1st Owner</td>\n",
       "      <td>1</td>\n",
       "      <td>Mini Hatchback</td>\n",
       "    </tr>\n",
       "    <tr>\n",
       "      <th>1</th>\n",
       "      <td>MarutiEeco</td>\n",
       "      <td>5 STR WITH AC PLUSHTR Manual</td>\n",
       "      <td>2</td>\n",
       "      <td>1</td>\n",
       "      <td>2014</td>\n",
       "      <td>18371</td>\n",
       "      <td>354499</td>\n",
       "      <td>1st Owner</td>\n",
       "      <td>7</td>\n",
       "      <td>Mini Hatchback</td>\n",
       "    </tr>\n",
       "    <tr>\n",
       "      <th>2</th>\n",
       "      <td>MarutiSwift</td>\n",
       "      <td>LXI Manual</td>\n",
       "      <td>2</td>\n",
       "      <td>1</td>\n",
       "      <td>2019</td>\n",
       "      <td>2484</td>\n",
       "      <td>586699</td>\n",
       "      <td>1st Owner</td>\n",
       "      <td>2</td>\n",
       "      <td>Hatchback</td>\n",
       "    </tr>\n",
       "    <tr>\n",
       "      <th>3</th>\n",
       "      <td>RenaultKwid</td>\n",
       "      <td>1.0 RXT Opt AT Automatic</td>\n",
       "      <td>1</td>\n",
       "      <td>1</td>\n",
       "      <td>2020</td>\n",
       "      <td>4824</td>\n",
       "      <td>483299</td>\n",
       "      <td>1st Owner</td>\n",
       "      <td>1</td>\n",
       "      <td>Mini Hatchback</td>\n",
       "    </tr>\n",
       "    <tr>\n",
       "      <th>4</th>\n",
       "      <td>MarutiSwiftDzire</td>\n",
       "      <td>VXI 1.2 BS IV Manual</td>\n",
       "      <td>2</td>\n",
       "      <td>1</td>\n",
       "      <td>2014</td>\n",
       "      <td>10131</td>\n",
       "      <td>492099</td>\n",
       "      <td>1st Owner</td>\n",
       "      <td>7</td>\n",
       "      <td>Sedan</td>\n",
       "    </tr>\n",
       "  </tbody>\n",
       "</table>\n",
       "</div>"
      ],
      "text/plain": [
       "              Model                          Make  Transmission  Engine  Year  \\\n",
       "0        MarutiAlto                    LXI Manual             2       1  2020   \n",
       "1        MarutiEeco  5 STR WITH AC PLUSHTR Manual             2       1  2014   \n",
       "2       MarutiSwift                    LXI Manual             2       1  2019   \n",
       "3       RenaultKwid      1.0 RXT Opt AT Automatic             1       1  2020   \n",
       "4  MarutiSwiftDzire          VXI 1.2 BS IV Manual             2       1  2014   \n",
       "\n",
       "      KM   Price      Owner  CarAge         Segment  \n",
       "0   3494  419599  1st Owner       1  Mini Hatchback  \n",
       "1  18371  354499  1st Owner       7  Mini Hatchback  \n",
       "2   2484  586699  1st Owner       2       Hatchback  \n",
       "3   4824  483299  1st Owner       1  Mini Hatchback  \n",
       "4  10131  492099  1st Owner       7           Sedan  "
      ]
     },
     "execution_count": 405,
     "metadata": {},
     "output_type": "execute_result"
    }
   ],
   "source": [
    "df.head()"
   ]
  },
  {
   "cell_type": "code",
   "execution_count": 406,
   "id": "0a898adc",
   "metadata": {},
   "outputs": [],
   "source": [
    "dfx = df[df['Segment'] == 'Mini Hatchback']"
   ]
  },
  {
   "cell_type": "code",
   "execution_count": 407,
   "id": "c206477d",
   "metadata": {},
   "outputs": [
    {
     "data": {
      "text/plain": [
       "<BarContainer object of 192 artists>"
      ]
     },
     "execution_count": 407,
     "metadata": {},
     "output_type": "execute_result"
    },
    {
     "data": {
      "image/png": "[encoded data removed]",
      "text/plain": [
       "<Figure size 720x720 with 1 Axes>"
      ]
     },
     "metadata": {
      "needs_background": "light"
     },
     "output_type": "display_data"
    }
   ],
   "source": [
    "#From the below chart, it seems the automatic transmission cars are less priced than their manual\n",
    "#counterparts. Lets see how many automatic cars are present in this segment\n",
    "fig = plt.figure(1, [10, 10])\n",
    "ax = fig.add_axes([0,0,1,1])\n",
    "ax.bar(dfx['Transmission'],dfx['Price'])"
   ]
  },
  {
   "cell_type": "code",
   "execution_count": 408,
   "id": "074dd999",
   "metadata": {},
   "outputs": [
    {
     "data": {
      "text/plain": [
       "(array([  4.,   0.,   0.,   0.,   0.,  24.,   0.,   0.,   0., 164.]),\n",
       " array([0. , 0.2, 0.4, 0.6, 0.8, 1. , 1.2, 1.4, 1.6, 1.8, 2. ]),\n",
       " <BarContainer object of 10 artists>)"
      ]
     },
     "execution_count": 408,
     "metadata": {},
     "output_type": "execute_result"
    },
    {
     "data": {
      "image/png": "[encoded data removed]",
      "text/plain": [
       "<Figure size 720x720 with 1 Axes>"
      ]
     },
     "metadata": {
      "needs_background": "light"
     },
     "output_type": "display_data"
    }
   ],
   "source": [
    "fig = plt.figure(1, [10, 10])\n",
    "ax = fig.add_axes([0,0,1,1])\n",
    "ax.hist(dfx['Transmission'])\n",
    "#automatic cars are very few in number. Therefore we cannot use this to derive insights"
   ]
  },
  {
   "cell_type": "code",
   "execution_count": 410,
   "id": "974596b5",
   "metadata": {},
   "outputs": [
    {
     "data": {
      "text/plain": [
       "(array([  0.,   0.,   0.,   0.,   0., 192.,   0.,   0.,   0.,   0.]),\n",
       " array([0.5, 0.6, 0.7, 0.8, 0.9, 1. , 1.1, 1.2, 1.3, 1.4, 1.5]),\n",
       " <BarContainer object of 10 artists>)"
      ]
     },
     "execution_count": 410,
     "metadata": {},
     "output_type": "execute_result"
    },
    {
     "data": {
      "image/png": "[encoded data removed]",
      "text/plain": [
       "<Figure size 720x720 with 1 Axes>"
      ]
     },
     "metadata": {
      "needs_background": "light"
     },
     "output_type": "display_data"
    }
   ],
   "source": [
    "fig = plt.figure(1, [10, 10])\n",
    "ax = fig.add_axes([0,0,1,1])\n",
    "ax.hist(dfx['Engine'])\n",
    "#Petrol cars are more in number than diesel cars in the mini hatchback segment"
   ]
  },
  {
   "cell_type": "code",
   "execution_count": 413,
   "id": "817206ec",
   "metadata": {},
   "outputs": [
    {
     "data": {
      "text/plain": [
       "<BarContainer object of 15 artists>"
      ]
     },
     "execution_count": 413,
     "metadata": {},
     "output_type": "execute_result"
    },
    {
     "data": {
      "image/png": "[encoded data removed]",
      "text/plain": [
       "<Figure size 720x720 with 1 Axes>"
      ]
     },
     "metadata": {
      "needs_background": "light"
     },
     "output_type": "display_data"
    }
   ],
   "source": [
    "dfy = df[df['Segment'] == 'Mid SUV']\n",
    "fig = plt.figure(1, [10, 10])\n",
    "ax = fig.add_axes([0,0,1,1])\n",
    "ax.bar(dfy['Transmission'],dfy['Price'])"
   ]
  },
  {
   "cell_type": "code",
   "execution_count": 414,
   "id": "8fc17e2a",
   "metadata": {},
   "outputs": [
    {
     "data": {
      "text/plain": [
       "(array([ 3.,  0.,  0.,  0.,  0.,  0.,  0.,  0.,  0., 12.]),\n",
       " array([1. , 1.1, 1.2, 1.3, 1.4, 1.5, 1.6, 1.7, 1.8, 1.9, 2. ]),\n",
       " <BarContainer object of 10 artists>)"
      ]
     },
     "execution_count": 414,
     "metadata": {},
     "output_type": "execute_result"
    },
    {
     "data": {
      "image/png": "[encoded data removed]",
      "text/plain": [
       "<Figure size 720x720 with 1 Axes>"
      ]
     },
     "metadata": {
      "needs_background": "light"
     },
     "output_type": "display_data"
    }
   ],
   "source": [
    "#Automatic cars are fewer in number in the mid suv segment too\n",
    "fig = plt.figure(1, [10, 10])\n",
    "ax = fig.add_axes([0,0,1,1])\n",
    "ax.hist(dfy['Transmission'])"
   ]
  },
  {
   "cell_type": "code",
   "execution_count": 415,
   "id": "7d3c25d6",
   "metadata": {},
   "outputs": [
    {
     "data": {
      "text/plain": [
       "(array([ 0.,  0.,  0.,  0.,  0., 15.,  0.,  0.,  0.,  0.]),\n",
       " array([-0.5, -0.4, -0.3, -0.2, -0.1,  0. ,  0.1,  0.2,  0.3,  0.4,  0.5]),\n",
       " <BarContainer object of 10 artists>)"
      ]
     },
     "execution_count": 415,
     "metadata": {},
     "output_type": "execute_result"
    },
    {
     "data": {
      "image/png": "[encoded data removed]",
      "text/plain": [
       "<Figure size 720x720 with 1 Axes>"
      ]
     },
     "metadata": {
      "needs_background": "light"
     },
     "output_type": "display_data"
    }
   ],
   "source": [
    "fig = plt.figure(1, [10, 10])\n",
    "ax = fig.add_axes([0,0,1,1])\n",
    "ax.hist(dfy['Engine'])"
   ]
  },
  {
   "cell_type": "code",
   "execution_count": 416,
   "id": "0e80a50a",
   "metadata": {},
   "outputs": [
    {
     "data": {
      "text/plain": [
       "(array([23.,  0.,  0.,  0.,  0.,  0.,  0.,  0.,  0., 44.]),\n",
       " array([0. , 0.1, 0.2, 0.3, 0.4, 0.5, 0.6, 0.7, 0.8, 0.9, 1. ]),\n",
       " <BarContainer object of 10 artists>)"
      ]
     },
     "execution_count": 416,
     "metadata": {},
     "output_type": "execute_result"
    },
    {
     "data": {
      "image/png": "[encoded data removed]",
      "text/plain": [
       "<Figure size 720x720 with 1 Axes>"
      ]
     },
     "metadata": {
      "needs_background": "light"
     },
     "output_type": "display_data"
    }
   ],
   "source": [
    "dfz = df[df['Segment'] == 'Sedan']\n",
    "fig = plt.figure(1, [10, 10])\n",
    "ax = fig.add_axes([0,0,1,1])\n",
    "ax.hist(dfz['Engine'])"
   ]
  },
  {
   "cell_type": "code",
   "execution_count": 417,
   "id": "a61cf69e",
   "metadata": {},
   "outputs": [
    {
     "data": {
      "text/plain": [
       "(array([ 3.,  0.,  0.,  0.,  0.,  8.,  0.,  0.,  0., 56.]),\n",
       " array([0. , 0.2, 0.4, 0.6, 0.8, 1. , 1.2, 1.4, 1.6, 1.8, 2. ]),\n",
       " <BarContainer object of 10 artists>)"
      ]
     },
     "execution_count": 417,
     "metadata": {},
     "output_type": "execute_result"
    },
    {
     "data": {
      "image/png": "[encoded data removed]",
      "text/plain": [
       "<Figure size 720x720 with 1 Axes>"
      ]
     },
     "metadata": {
      "needs_background": "light"
     },
     "output_type": "display_data"
    }
   ],
   "source": [
    "fig = plt.figure(1, [10, 10])\n",
    "ax = fig.add_axes([0,0,1,1])\n",
    "ax.hist(dfz['Transmission'])"
   ]
  },
  {
   "cell_type": "code",
   "execution_count": 419,
   "id": "ae7bf4bf",
   "metadata": {},
   "outputs": [
    {
     "data": {
      "text/plain": [
       "<BarContainer object of 67 artists>"
      ]
     },
     "execution_count": 419,
     "metadata": {},
     "output_type": "execute_result"
    },
    {
     "data": {
      "image/png": "[encoded data removed]",
      "text/plain": [
       "<Figure size 720x720 with 1 Axes>"
      ]
     },
     "metadata": {
      "needs_background": "light"
     },
     "output_type": "display_data"
    }
   ],
   "source": [
    "fig = plt.figure(1, [10, 10])\n",
    "ax = fig.add_axes([0,0,1,1])\n",
    "ax.bar(dfz['CarAge'],dfz['Price'])"
   ]
  },
  {
   "cell_type": "code",
   "execution_count": 420,
   "id": "865f88e3",
   "metadata": {},
   "outputs": [
    {
     "data": {
      "text/plain": [
       "<AxesSubplot:xlabel='KM', ylabel='Price'>"
      ]
     },
     "execution_count": 420,
     "metadata": {},
     "output_type": "execute_result"
    },
    {
     "data": {
      "image/png": "[encoded data removed]",
      "text/plain": [
       "<Figure size 432x288 with 1 Axes>"
      ]
     },
     "metadata": {
      "needs_background": "light"
     },
     "output_type": "display_data"
    }
   ],
   "source": [
    "dfz.plot.scatter(x='KM',y='Price')"
   ]
  },
  {
   "cell_type": "code",
   "execution_count": 421,
   "id": "566998fc",
   "metadata": {},
   "outputs": [],
   "source": [
    "dfw = df[df['Segment'] == 'Hatchback']"
   ]
  },
  {
   "cell_type": "code",
   "execution_count": 423,
   "id": "dc3166ba",
   "metadata": {},
   "outputs": [
    {
     "data": {
      "text/plain": [
       "<BarContainer object of 230 artists>"
      ]
     },
     "execution_count": 423,
     "metadata": {},
     "output_type": "execute_result"
    },
    {
     "data": {
      "image/png": "[encoded data removed]",
      "text/plain": [
       "<Figure size 720x720 with 1 Axes>"
      ]
     },
     "metadata": {
      "needs_background": "light"
     },
     "output_type": "display_data"
    }
   ],
   "source": [
    "fig = plt.figure(1, [10, 10])\n",
    "ax = fig.add_axes([0,0,1,1])\n",
    "ax.bar(dfw['CarAge'],dfw['Price'])"
   ]
  },
  {
   "cell_type": "code",
   "execution_count": 424,
   "id": "4c4af64e",
   "metadata": {},
   "outputs": [
    {
     "data": {
      "text/plain": [
       "(array([ 12.,   0.,   0.,   0.,   0.,  18.,   0.,   0.,   0., 200.]),\n",
       " array([0. , 0.2, 0.4, 0.6, 0.8, 1. , 1.2, 1.4, 1.6, 1.8, 2. ]),\n",
       " <BarContainer object of 10 artists>)"
      ]
     },
     "execution_count": 424,
     "metadata": {},
     "output_type": "execute_result"
    },
    {
     "data": {
      "image/png": "[encoded data removed]",
      "text/plain": [
       "<Figure size 720x720 with 1 Axes>"
      ]
     },
     "metadata": {
      "needs_background": "light"
     },
     "output_type": "display_data"
    }
   ],
   "source": [
    "fig = plt.figure(1, [10, 10])\n",
    "ax = fig.add_axes([0,0,1,1])\n",
    "ax.hist(dfw['Transmission'])"
   ]
  },
  {
   "cell_type": "code",
   "execution_count": 425,
   "id": "a1bea24e",
   "metadata": {},
   "outputs": [
    {
     "data": {
      "text/plain": [
       "(array([ 36.,   0.,   0.,   0.,   0., 193.,   0.,   0.,   0.,   1.]),\n",
       " array([0. , 0.2, 0.4, 0.6, 0.8, 1. , 1.2, 1.4, 1.6, 1.8, 2. ]),\n",
       " <BarContainer object of 10 artists>)"
      ]
     },
     "execution_count": 425,
     "metadata": {},
     "output_type": "execute_result"
    },
    {
     "data": {
      "image/png": "[encoded data removed]",
      "text/plain": [
       "<Figure size 720x720 with 1 Axes>"
      ]
     },
     "metadata": {
      "needs_background": "light"
     },
     "output_type": "display_data"
    }
   ],
   "source": [
    "fig = plt.figure(1, [10, 10])\n",
    "ax = fig.add_axes([0,0,1,1])\n",
    "ax.hist(dfw['Engine'])"
   ]
  },
  {
   "cell_type": "code",
   "execution_count": 427,
   "id": "92899548",
   "metadata": {},
   "outputs": [
    {
     "data": {
      "text/plain": [
       "<AxesSubplot:xlabel='KM', ylabel='Price'>"
      ]
     },
     "execution_count": 427,
     "metadata": {},
     "output_type": "execute_result"
    },
    {
     "data": {
      "image/png": "[encoded data removed]",
      "text/plain": [
       "<Figure size 432x288 with 1 Axes>"
      ]
     },
     "metadata": {
      "needs_background": "light"
     },
     "output_type": "display_data"
    }
   ],
   "source": [
    "dfw.plot.scatter(x='KM',y='Price')"
   ]
  },
  {
   "cell_type": "code",
   "execution_count": null,
   "id": "9888e979",
   "metadata": {},
   "outputs": [],
   "source": []
  }
 ],
 "metadata": {
  "kernelspec": {
   "display_name": "Python 3",
   "language": "python",
   "name": "python3"
  },
  "language_info": {
   "codemirror_mode": {
    "name": "ipython",
    "version": 3
   },
   "file_extension": ".py",
   "mimetype": "text/x-python",
   "name": "python",
   "nbconvert_exporter": "python",
   "pygments_lexer": "ipython3",
   "version": "3.8.8"
  }
 },
 "nbformat": 4,
 "nbformat_minor": 5
}
